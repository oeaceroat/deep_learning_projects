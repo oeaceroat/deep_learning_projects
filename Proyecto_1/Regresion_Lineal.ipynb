{
 "cells": [
  {
   "cell_type": "markdown",
   "metadata": {},
   "source": [
    "## New York City Taxi Trip Duration"
   ]
  },
  {
   "cell_type": "markdown",
   "metadata": {},
   "source": [
    "En esta competencia, Kaggle reta a construir un modelo que prediga la duración total de los viajes en taxi en la ciudad de Nueva York. Su conjunto de datos primario es publicado por la Comisión de taxis y limusinas de la ciudad de Nueva York, que incluye el tiempo de recogida, las coordenadas geográficas, el número de pasajeros y varias otras variables.\n",
    "\n",
    "NOTA: Los datos fueron muestreados y limpiados para los propósitos de la competencia. Con base en los atributos de viaje individuales, los participantes deben predecir la duración de cada viaje en el conjunto de prueba.\n",
    "\n",
    "##### File descriptions \n",
    "\n",
    "* train.csv - the training set (contains 1.458.644 trip records) \n",
    "\n",
    "* test.csv - the testing set (contains 625.134 trip records) \n",
    "\n",
    "* sample_submission.csv  - a sample submission file in the correct format \n",
    "\n",
    "* train_enriched.csv (contains 58.345 enriched trip records)\n",
    "\n",
    "* test_enriched.csv (contains 24.055 enriched trip records)\n",
    "\n",
    "##### Data fields \n",
    "\n",
    "* id - a unique identifier for each trip \n",
    "\n",
    "* vendor_id - a code indicating the provider associated with the trip record \n",
    "\n",
    "* pickup_datetime - date and time when the meter was engaged \n",
    "\n",
    "* dropoff_datetime - date and time when the meter was disengaged \n",
    "\n",
    "* passenger_count - the number of passengers in the vehicle (driver entered value) \n",
    "\n",
    "* pickup_longitude - the longitude where the meter was engaged \n",
    "\n",
    "* pickup_latitude - the latitude where the meter was engaged \n",
    "\n",
    "* dropoff_longitude - the longitude where the meter was disengaged \n",
    "\n",
    "* dropoff_latitude - the latitude where the meter was disengaged \n",
    "\n",
    "* store_and_fwd_flag - This flag indicates whether the trip record was held in vehicle memory before sending to the vendor because the vehicle did not have a connection to the server - Y=store and forward; N=not a store and forward trip \n",
    "\n",
    "* trip_duration - duration of the trip in seconds \n",
    "\n",
    "Disclaimer: The decision was made to not remove dropoff coordinates from the dataset order to provide an expanded set of variables to use in Kernels. \n",
    "\n",
    "##### Data fields added during the enrichment data process\n",
    "\n",
    "* date_pickup - date when the meter was engaged \n",
    "\n",
    "* time_pickup - time when the meter was engaged \n",
    "\n",
    "* seconds_pickup - time expressed in seconds when the meter was engaged   \n",
    "\n",
    "* distance - distance (mi) between the engaged and disengaged points\n",
    "\n",
    "* pm - time when the meter was engaged is pm or not\n",
    "\n",
    "* week_day_pickup - day of week when the meter was engaged \n",
    "\n",
    "* pickup_to_center - distance (mi) between the engaged point and Cross Bronx Expressway  \n",
    "\n",
    "* dropof_to_center -  distance (mi) between the disengaged point and Cross Bronx Expressway \n",
    "\n",
    "* seconds_pickup_cluster - seconds_pickup categories\n",
    " \n",
    "* distance_cluster - distance categories\n"
   ]
  },
  {
   "cell_type": "code",
   "execution_count": 1,
   "metadata": {},
   "outputs": [],
   "source": [
    "import pandas as pd\n",
    "import numpy as np\n",
    "import pandas_profiling #Ejecutar \"pip install geopy\" en Anaconda Prompt\n",
    "\n",
    "%matplotlib inline\n",
    "import matplotlib.pyplot as plt\n",
    "\n",
    "# read the data and set the datetime as the index\n",
    "import zipfile\n",
    "import geopy.distance #Ejecutar \"pip install geopy\" en Anaconda Prompt\n",
    "\n",
    "import numpy as np\n",
    "import pandas as pd\n",
    "import pandas_profiling\n",
    "\n",
    "# module to do statistics\n",
    "import scipy.stats  as stats\n",
    "\n",
    "import pandas as pd\n",
    "import matplotlib\n",
    "from matplotlib import pyplot as plt\n",
    "import numpy as np\n",
    "import seaborn as sns\n",
    "%matplotlib inline\n",
    "matplotlib.style.use('ggplot')\n",
    "import pandas_profiling\n",
    "import statsmodels.api as sm\n",
    "from statsmodels.formula.api import ols\n",
    "from pandas.tools.plotting import scatter_matrix\n",
    "from statsmodels.graphics.regressionplots import influence_plot\n",
    "import scipy.stats as stats# Funciones adicionales\n",
    "from sklearn import linear_model\n",
    "import statsmodels.formula.api as smf\n",
    "from sklearn import preprocessing"
   ]
  },
  {
   "cell_type": "code",
   "execution_count": 2,
   "metadata": {
    "scrolled": true
   },
   "outputs": [
    {
     "data": {
      "text/html": [
       "<div>\n",
       "<style scoped>\n",
       "    .dataframe tbody tr th:only-of-type {\n",
       "        vertical-align: middle;\n",
       "    }\n",
       "\n",
       "    .dataframe tbody tr th {\n",
       "        vertical-align: top;\n",
       "    }\n",
       "\n",
       "    .dataframe thead th {\n",
       "        text-align: right;\n",
       "    }\n",
       "</style>\n",
       "<table border=\"1\" class=\"dataframe\">\n",
       "  <thead>\n",
       "    <tr style=\"text-align: right;\">\n",
       "      <th></th>\n",
       "      <th>id</th>\n",
       "      <th>vendor_id</th>\n",
       "      <th>pickup_datetime</th>\n",
       "      <th>dropoff_datetime</th>\n",
       "      <th>passenger_count</th>\n",
       "      <th>pickup_longitude</th>\n",
       "      <th>pickup_latitude</th>\n",
       "      <th>dropoff_longitude</th>\n",
       "      <th>dropoff_latitude</th>\n",
       "      <th>store_and_fwd_flag</th>\n",
       "      <th>...</th>\n",
       "      <th>Dia_semana</th>\n",
       "      <th>Dia_semana_do</th>\n",
       "      <th>Dia_semana_ju</th>\n",
       "      <th>Dia_semana_lu</th>\n",
       "      <th>Dia_semana_ma</th>\n",
       "      <th>Dia_semana_mi</th>\n",
       "      <th>Dia_semana_sa</th>\n",
       "      <th>Dia_semana_vi</th>\n",
       "      <th>Dia_semana_ma.1</th>\n",
       "      <th>segmentos naturales</th>\n",
       "    </tr>\n",
       "  </thead>\n",
       "  <tbody>\n",
       "    <tr>\n",
       "      <th>0</th>\n",
       "      <td>id2377394</td>\n",
       "      <td>1</td>\n",
       "      <td>12/06/2016</td>\n",
       "      <td>12/06/2016 0:54</td>\n",
       "      <td>1</td>\n",
       "      <td>-73.980.415</td>\n",
       "      <td>40.738.564</td>\n",
       "      <td>-73.999.481</td>\n",
       "      <td>40.731.152</td>\n",
       "      <td>N</td>\n",
       "      <td>...</td>\n",
       "      <td>do</td>\n",
       "      <td>1</td>\n",
       "      <td>0</td>\n",
       "      <td>0</td>\n",
       "      <td>0</td>\n",
       "      <td>0</td>\n",
       "      <td>0</td>\n",
       "      <td>0</td>\n",
       "      <td>0.020456</td>\n",
       "      <td>1</td>\n",
       "    </tr>\n",
       "    <tr>\n",
       "      <th>1</th>\n",
       "      <td>id3858529</td>\n",
       "      <td>2</td>\n",
       "      <td>19/01/2016</td>\n",
       "      <td>19/01/2016 12:10</td>\n",
       "      <td>1</td>\n",
       "      <td>-73.979.027</td>\n",
       "      <td>40.763.939</td>\n",
       "      <td>-74.005.333</td>\n",
       "      <td>40.710.087</td>\n",
       "      <td>N</td>\n",
       "      <td>...</td>\n",
       "      <td>ma</td>\n",
       "      <td>0</td>\n",
       "      <td>0</td>\n",
       "      <td>0</td>\n",
       "      <td>1</td>\n",
       "      <td>0</td>\n",
       "      <td>0</td>\n",
       "      <td>0</td>\n",
       "      <td>0.059934</td>\n",
       "      <td>1</td>\n",
       "    </tr>\n",
       "    <tr>\n",
       "      <th>2</th>\n",
       "      <td>id3504673</td>\n",
       "      <td>2</td>\n",
       "      <td>6/04/2016</td>\n",
       "      <td>6/04/2016 19:39</td>\n",
       "      <td>1</td>\n",
       "      <td>-74.010.040</td>\n",
       "      <td>40.719.971</td>\n",
       "      <td>-74.012.268</td>\n",
       "      <td>40.706.718</td>\n",
       "      <td>N</td>\n",
       "      <td>...</td>\n",
       "      <td>mi</td>\n",
       "      <td>0</td>\n",
       "      <td>0</td>\n",
       "      <td>0</td>\n",
       "      <td>0</td>\n",
       "      <td>1</td>\n",
       "      <td>0</td>\n",
       "      <td>0</td>\n",
       "      <td>0.013438</td>\n",
       "      <td>1</td>\n",
       "    </tr>\n",
       "    <tr>\n",
       "      <th>3</th>\n",
       "      <td>id2181028</td>\n",
       "      <td>2</td>\n",
       "      <td>26/03/2016</td>\n",
       "      <td>26/03/2016 13:38</td>\n",
       "      <td>1</td>\n",
       "      <td>-73.973.053</td>\n",
       "      <td>40.793.209</td>\n",
       "      <td>-73.972.923</td>\n",
       "      <td>40.782.520</td>\n",
       "      <td>N</td>\n",
       "      <td>...</td>\n",
       "      <td>sa</td>\n",
       "      <td>0</td>\n",
       "      <td>0</td>\n",
       "      <td>0</td>\n",
       "      <td>0</td>\n",
       "      <td>0</td>\n",
       "      <td>1</td>\n",
       "      <td>0</td>\n",
       "      <td>0.010690</td>\n",
       "      <td>2</td>\n",
       "    </tr>\n",
       "    <tr>\n",
       "      <th>4</th>\n",
       "      <td>id1187965</td>\n",
       "      <td>2</td>\n",
       "      <td>19/02/2016</td>\n",
       "      <td>19/02/2016 10:11</td>\n",
       "      <td>2</td>\n",
       "      <td>-73.962.982</td>\n",
       "      <td>40.756.680</td>\n",
       "      <td>-73.984.406</td>\n",
       "      <td>40.760.719</td>\n",
       "      <td>N</td>\n",
       "      <td>...</td>\n",
       "      <td>vi</td>\n",
       "      <td>0</td>\n",
       "      <td>0</td>\n",
       "      <td>0</td>\n",
       "      <td>0</td>\n",
       "      <td>0</td>\n",
       "      <td>0</td>\n",
       "      <td>1</td>\n",
       "      <td>0.021801</td>\n",
       "      <td>1</td>\n",
       "    </tr>\n",
       "  </tbody>\n",
       "</table>\n",
       "<p>5 rows × 21 columns</p>\n",
       "</div>"
      ],
      "text/plain": [
       "          id  vendor_id pickup_datetime  dropoff_datetime  passenger_count  \\\n",
       "0  id2377394          1      12/06/2016   12/06/2016 0:54                1   \n",
       "1  id3858529          2      19/01/2016  19/01/2016 12:10                1   \n",
       "2  id3504673          2       6/04/2016   6/04/2016 19:39                1   \n",
       "3  id2181028          2      26/03/2016  26/03/2016 13:38                1   \n",
       "4  id1187965          2      19/02/2016  19/02/2016 10:11                2   \n",
       "\n",
       "  pickup_longitude pickup_latitude dropoff_longitude dropoff_latitude  \\\n",
       "0      -73.980.415      40.738.564       -73.999.481       40.731.152   \n",
       "1      -73.979.027      40.763.939       -74.005.333       40.710.087   \n",
       "2      -74.010.040      40.719.971       -74.012.268       40.706.718   \n",
       "3      -73.973.053      40.793.209       -73.972.923       40.782.520   \n",
       "4      -73.962.982      40.756.680       -73.984.406       40.760.719   \n",
       "\n",
       "  store_and_fwd_flag         ...           Dia_semana Dia_semana_do  \\\n",
       "0                  N         ...                   do             1   \n",
       "1                  N         ...                   ma             0   \n",
       "2                  N         ...                   mi             0   \n",
       "3                  N         ...                   sa             0   \n",
       "4                  N         ...                   vi             0   \n",
       "\n",
       "   Dia_semana_ju  Dia_semana_lu  Dia_semana_ma  Dia_semana_mi  Dia_semana_sa  \\\n",
       "0              0              0              0              0              0   \n",
       "1              0              0              1              0              0   \n",
       "2              0              0              0              1              0   \n",
       "3              0              0              0              0              1   \n",
       "4              0              0              0              0              0   \n",
       "\n",
       "   Dia_semana_vi  Dia_semana_ma.1  segmentos naturales  \n",
       "0              0         0.020456                    1  \n",
       "1              0         0.059934                    1  \n",
       "2              0         0.013438                    1  \n",
       "3              0         0.010690                    2  \n",
       "4              1         0.021801                    1  \n",
       "\n",
       "[5 rows x 21 columns]"
      ]
     },
     "execution_count": 2,
     "metadata": {},
     "output_type": "execute_result"
    }
   ],
   "source": [
    "import pandas as pd\n",
    "data = pd.read_csv('data/train_v2.csv', sep=';')\n",
    "data.head()"
   ]
  },
  {
   "cell_type": "code",
   "execution_count": 3,
   "metadata": {},
   "outputs": [
    {
     "data": {
      "text/html": [
       "<div>\n",
       "<style scoped>\n",
       "    .dataframe tbody tr th:only-of-type {\n",
       "        vertical-align: middle;\n",
       "    }\n",
       "\n",
       "    .dataframe tbody tr th {\n",
       "        vertical-align: top;\n",
       "    }\n",
       "\n",
       "    .dataframe thead th {\n",
       "        text-align: right;\n",
       "    }\n",
       "</style>\n",
       "<table border=\"1\" class=\"dataframe\">\n",
       "  <thead>\n",
       "    <tr style=\"text-align: right;\">\n",
       "      <th></th>\n",
       "      <th>id</th>\n",
       "      <th>vendor_id</th>\n",
       "      <th>pickup_datetime</th>\n",
       "      <th>dropoff_datetime</th>\n",
       "      <th>passenger_count</th>\n",
       "      <th>pickup_longitude</th>\n",
       "      <th>pickup_latitude</th>\n",
       "      <th>dropoff_longitude</th>\n",
       "      <th>dropoff_latitude</th>\n",
       "      <th>store_and_fwd_flag</th>\n",
       "      <th>...</th>\n",
       "      <th>Dia_semana</th>\n",
       "      <th>Dia_semana_do</th>\n",
       "      <th>Dia_semana_ju</th>\n",
       "      <th>Dia_semana_lu</th>\n",
       "      <th>Dia_semana_ma</th>\n",
       "      <th>Dia_semana_mi</th>\n",
       "      <th>Dia_semana_sa</th>\n",
       "      <th>Dia_semana_vi</th>\n",
       "      <th>Dia_semana_ma.1</th>\n",
       "      <th>segmentos naturales</th>\n",
       "    </tr>\n",
       "  </thead>\n",
       "  <tbody>\n",
       "    <tr>\n",
       "      <th>0</th>\n",
       "      <td>id2377394</td>\n",
       "      <td>1</td>\n",
       "      <td>12/06/2016</td>\n",
       "      <td>12/06/2016 0:54</td>\n",
       "      <td>1</td>\n",
       "      <td>-73.980.415</td>\n",
       "      <td>40.738.564</td>\n",
       "      <td>-73.999.481</td>\n",
       "      <td>40.731.152</td>\n",
       "      <td>N</td>\n",
       "      <td>...</td>\n",
       "      <td>do</td>\n",
       "      <td>1</td>\n",
       "      <td>0</td>\n",
       "      <td>0</td>\n",
       "      <td>0</td>\n",
       "      <td>0</td>\n",
       "      <td>0</td>\n",
       "      <td>0</td>\n",
       "      <td>0.020456</td>\n",
       "      <td>1</td>\n",
       "    </tr>\n",
       "    <tr>\n",
       "      <th>1</th>\n",
       "      <td>id3858529</td>\n",
       "      <td>2</td>\n",
       "      <td>19/01/2016</td>\n",
       "      <td>19/01/2016 12:10</td>\n",
       "      <td>1</td>\n",
       "      <td>-73.979.027</td>\n",
       "      <td>40.763.939</td>\n",
       "      <td>-74.005.333</td>\n",
       "      <td>40.710.087</td>\n",
       "      <td>N</td>\n",
       "      <td>...</td>\n",
       "      <td>ma</td>\n",
       "      <td>0</td>\n",
       "      <td>0</td>\n",
       "      <td>0</td>\n",
       "      <td>1</td>\n",
       "      <td>0</td>\n",
       "      <td>0</td>\n",
       "      <td>0</td>\n",
       "      <td>0.059934</td>\n",
       "      <td>1</td>\n",
       "    </tr>\n",
       "    <tr>\n",
       "      <th>2</th>\n",
       "      <td>id3504673</td>\n",
       "      <td>2</td>\n",
       "      <td>6/04/2016</td>\n",
       "      <td>6/04/2016 19:39</td>\n",
       "      <td>1</td>\n",
       "      <td>-74.010.040</td>\n",
       "      <td>40.719.971</td>\n",
       "      <td>-74.012.268</td>\n",
       "      <td>40.706.718</td>\n",
       "      <td>N</td>\n",
       "      <td>...</td>\n",
       "      <td>mi</td>\n",
       "      <td>0</td>\n",
       "      <td>0</td>\n",
       "      <td>0</td>\n",
       "      <td>0</td>\n",
       "      <td>1</td>\n",
       "      <td>0</td>\n",
       "      <td>0</td>\n",
       "      <td>0.013438</td>\n",
       "      <td>1</td>\n",
       "    </tr>\n",
       "    <tr>\n",
       "      <th>3</th>\n",
       "      <td>id2181028</td>\n",
       "      <td>2</td>\n",
       "      <td>26/03/2016</td>\n",
       "      <td>26/03/2016 13:38</td>\n",
       "      <td>1</td>\n",
       "      <td>-73.973.053</td>\n",
       "      <td>40.793.209</td>\n",
       "      <td>-73.972.923</td>\n",
       "      <td>40.782.520</td>\n",
       "      <td>N</td>\n",
       "      <td>...</td>\n",
       "      <td>sa</td>\n",
       "      <td>0</td>\n",
       "      <td>0</td>\n",
       "      <td>0</td>\n",
       "      <td>0</td>\n",
       "      <td>0</td>\n",
       "      <td>1</td>\n",
       "      <td>0</td>\n",
       "      <td>0.010690</td>\n",
       "      <td>2</td>\n",
       "    </tr>\n",
       "    <tr>\n",
       "      <th>4</th>\n",
       "      <td>id1187965</td>\n",
       "      <td>2</td>\n",
       "      <td>19/02/2016</td>\n",
       "      <td>19/02/2016 10:11</td>\n",
       "      <td>2</td>\n",
       "      <td>-73.962.982</td>\n",
       "      <td>40.756.680</td>\n",
       "      <td>-73.984.406</td>\n",
       "      <td>40.760.719</td>\n",
       "      <td>N</td>\n",
       "      <td>...</td>\n",
       "      <td>vi</td>\n",
       "      <td>0</td>\n",
       "      <td>0</td>\n",
       "      <td>0</td>\n",
       "      <td>0</td>\n",
       "      <td>0</td>\n",
       "      <td>0</td>\n",
       "      <td>1</td>\n",
       "      <td>0.021801</td>\n",
       "      <td>1</td>\n",
       "    </tr>\n",
       "  </tbody>\n",
       "</table>\n",
       "<p>5 rows × 21 columns</p>\n",
       "</div>"
      ],
      "text/plain": [
       "          id  vendor_id pickup_datetime  dropoff_datetime  passenger_count  \\\n",
       "0  id2377394          1      12/06/2016   12/06/2016 0:54                1   \n",
       "1  id3858529          2      19/01/2016  19/01/2016 12:10                1   \n",
       "2  id3504673          2       6/04/2016   6/04/2016 19:39                1   \n",
       "3  id2181028          2      26/03/2016  26/03/2016 13:38                1   \n",
       "4  id1187965          2      19/02/2016  19/02/2016 10:11                2   \n",
       "\n",
       "  pickup_longitude pickup_latitude dropoff_longitude dropoff_latitude  \\\n",
       "0      -73.980.415      40.738.564       -73.999.481       40.731.152   \n",
       "1      -73.979.027      40.763.939       -74.005.333       40.710.087   \n",
       "2      -74.010.040      40.719.971       -74.012.268       40.706.718   \n",
       "3      -73.973.053      40.793.209       -73.972.923       40.782.520   \n",
       "4      -73.962.982      40.756.680       -73.984.406       40.760.719   \n",
       "\n",
       "  store_and_fwd_flag         ...           Dia_semana Dia_semana_do  \\\n",
       "0                  N         ...                   do             1   \n",
       "1                  N         ...                   ma             0   \n",
       "2                  N         ...                   mi             0   \n",
       "3                  N         ...                   sa             0   \n",
       "4                  N         ...                   vi             0   \n",
       "\n",
       "   Dia_semana_ju  Dia_semana_lu  Dia_semana_ma  Dia_semana_mi  Dia_semana_sa  \\\n",
       "0              0              0              0              0              0   \n",
       "1              0              0              1              0              0   \n",
       "2              0              0              0              1              0   \n",
       "3              0              0              0              0              1   \n",
       "4              0              0              0              0              0   \n",
       "\n",
       "   Dia_semana_vi  Dia_semana_ma.1  segmentos naturales  \n",
       "0              0         0.020456                    1  \n",
       "1              0         0.059934                    1  \n",
       "2              0         0.013438                    1  \n",
       "3              0         0.010690                    2  \n",
       "4              1         0.021801                    1  \n",
       "\n",
       "[5 rows x 21 columns]"
      ]
     },
     "execution_count": 3,
     "metadata": {},
     "output_type": "execute_result"
    }
   ],
   "source": [
    "data[0:5]"
   ]
  },
  {
   "cell_type": "code",
   "execution_count": 4,
   "metadata": {},
   "outputs": [],
   "source": [
    "data=data[data.columns[1:21]] "
   ]
  },
  {
   "cell_type": "code",
   "execution_count": 5,
   "metadata": {},
   "outputs": [
    {
     "data": {
      "text/plain": [
       "Index(['vendor_id', 'pickup_datetime', 'dropoff_datetime', 'passenger_count',\n",
       "       'pickup_longitude', 'pickup_latitude', 'dropoff_longitude',\n",
       "       'dropoff_latitude', 'store_and_fwd_flag', 'trip_duration', 'Dia_semana',\n",
       "       'Dia_semana_do', 'Dia_semana_ju', 'Dia_semana_lu', 'Dia_semana_ma',\n",
       "       'Dia_semana_mi', 'Dia_semana_sa', 'Dia_semana_vi', 'Dia_semana_ma.1',\n",
       "       'segmentos naturales'],\n",
       "      dtype='object')"
      ]
     },
     "execution_count": 5,
     "metadata": {},
     "output_type": "execute_result"
    }
   ],
   "source": [
    "data.columns"
   ]
  },
  {
   "cell_type": "code",
   "execution_count": 6,
   "metadata": {},
   "outputs": [],
   "source": [
    "data=pd.DataFrame(data)"
   ]
  },
  {
   "cell_type": "code",
   "execution_count": 7,
   "metadata": {},
   "outputs": [],
   "source": [
    "data.columns=['vendor_id', 'pickup_datetime', 'dropoff_datetime','passenger_count', 'pickup_longitude', 'pickup_latitude','dropoff_longitude', 'dropoff_latitude', 'store_and_fwd_flag','trip_duration', 'Dia_semana', 'Dia_semana_do', 'Dia_semana_ju','Dia_semana_lu', 'Dia_semana_ma', 'Dia_semana_mi', 'Dia_semana_sa','Dia_semana_vi', 'Distancia_Eucladiana', 'segmentos naturales']\n",
    "      "
   ]
  },
  {
   "cell_type": "code",
   "execution_count": 8,
   "metadata": {},
   "outputs": [
    {
     "data": {
      "text/plain": [
       "vendor_id                 int64\n",
       "pickup_datetime          object\n",
       "dropoff_datetime         object\n",
       "passenger_count           int64\n",
       "pickup_longitude         object\n",
       "pickup_latitude          object\n",
       "dropoff_longitude        object\n",
       "dropoff_latitude         object\n",
       "store_and_fwd_flag       object\n",
       "trip_duration             int64\n",
       "Dia_semana               object\n",
       "Dia_semana_do             int64\n",
       "Dia_semana_ju             int64\n",
       "Dia_semana_lu             int64\n",
       "Dia_semana_ma             int64\n",
       "Dia_semana_mi             int64\n",
       "Dia_semana_sa             int64\n",
       "Dia_semana_vi             int64\n",
       "Distancia_Eucladiana    float64\n",
       "segmentos naturales       int64\n",
       "dtype: object"
      ]
     },
     "execution_count": 8,
     "metadata": {},
     "output_type": "execute_result"
    }
   ],
   "source": [
    "data.dtypes"
   ]
  },
  {
   "cell_type": "markdown",
   "metadata": {},
   "source": [
    "### Ajustes al dataset de entranamiento"
   ]
  },
  {
   "cell_type": "markdown",
   "metadata": {},
   "source": [
    "Se eliminan puntos atípicos respecto a su posición geográfica"
   ]
  },
  {
   "cell_type": "code",
   "execution_count": 9,
   "metadata": {},
   "outputs": [],
   "source": [
    "#Data frame auxiliar para pintar mapa\n",
    "#Se excluyen puntos que están demasiado al este\n",
    "data_aux = data"
   ]
  },
  {
   "cell_type": "code",
   "execution_count": 10,
   "metadata": {},
   "outputs": [
    {
     "ename": "TypeError",
     "evalue": "unsupported operand type(s) for -: 'str' and 'int'",
     "output_type": "error",
     "traceback": [
      "\u001b[1;31m---------------------------------------------------------------------------\u001b[0m",
      "\u001b[1;31mTypeError\u001b[0m                                 Traceback (most recent call last)",
      "\u001b[1;32m<ipython-input-10-5cdcd320a958>\u001b[0m in \u001b[0;36m<module>\u001b[1;34m()\u001b[0m\n\u001b[0;32m     17\u001b[0m \u001b[1;31m# determine range to print based on min, max lat and lon of the data\u001b[0m\u001b[1;33m\u001b[0m\u001b[1;33m\u001b[0m\u001b[0m\n\u001b[0;32m     18\u001b[0m \u001b[0mmargin\u001b[0m \u001b[1;33m=\u001b[0m \u001b[1;36m2\u001b[0m \u001b[1;31m# buffer to add to the range\u001b[0m\u001b[1;33m\u001b[0m\u001b[0m\n\u001b[1;32m---> 19\u001b[1;33m \u001b[0mlat_min\u001b[0m \u001b[1;33m=\u001b[0m \u001b[0mmin\u001b[0m\u001b[1;33m(\u001b[0m\u001b[0mlat\u001b[0m\u001b[1;33m)\u001b[0m \u001b[1;33m-\u001b[0m \u001b[0mmargin\u001b[0m\u001b[1;33m\u001b[0m\u001b[0m\n\u001b[0m\u001b[0;32m     20\u001b[0m \u001b[0mlat_max\u001b[0m \u001b[1;33m=\u001b[0m \u001b[0mmax\u001b[0m\u001b[1;33m(\u001b[0m\u001b[0mlat\u001b[0m\u001b[1;33m)\u001b[0m \u001b[1;33m+\u001b[0m \u001b[0mmargin\u001b[0m\u001b[1;33m\u001b[0m\u001b[0m\n\u001b[0;32m     21\u001b[0m \u001b[0mlon_min\u001b[0m \u001b[1;33m=\u001b[0m \u001b[0mmin\u001b[0m\u001b[1;33m(\u001b[0m\u001b[0mlon\u001b[0m\u001b[1;33m)\u001b[0m \u001b[1;33m-\u001b[0m \u001b[0mmargin\u001b[0m\u001b[1;33m\u001b[0m\u001b[0m\n",
      "\u001b[1;31mTypeError\u001b[0m: unsupported operand type(s) for -: 'str' and 'int'"
     ]
    }
   ],
   "source": [
    "import matplotlib.pyplot as plt\n",
    "from mpl_toolkits.basemap import Basemap #conda install -c conda-forge basemap\n",
    "import pandas as pd\n",
    "import io\n",
    "\n",
    "#u = u\"\"\"latitude,longitude\n",
    "#42.357778,-71.059444\n",
    "#39.952222,-75.163889\n",
    "#25.787778,-80.224167\n",
    "#30.267222, -97.763889\"\"\"\n",
    "\n",
    "# read in data to use for plotted points\n",
    "#buildingdf = pd.read_csv(io.StringIO(u), delimiter=\",\")\n",
    "lat = data_aux['pickup_latitude'].values \n",
    "lon = data_aux['pickup_longitude'].values\n",
    "\n",
    "# determine range to print based on min, max lat and lon of the data\n",
    "margin = 2 # buffer to add to the range\n",
    "lat_min = min(lat) - margin\n",
    "lat_max = max(lat) + margin\n",
    "lon_min = min(lon) - margin\n",
    "lon_max = max(lon) + margin\n",
    "\n",
    "# create map using BASEMAP\n",
    "m = Basemap(llcrnrlon=lon_min,\n",
    "            llcrnrlat=lat_min,\n",
    "            urcrnrlon=lon_max,\n",
    "            urcrnrlat=lat_max,\n",
    "            lat_0=(lat_max - lat_min)/2,\n",
    "            lon_0=(lon_max-lon_min)/2,\n",
    "            projection='merc',\n",
    "            resolution = 'h',\n",
    "            area_thresh=10000.,\n",
    "            )\n",
    "m.drawcoastlines()\n",
    "m.drawcountries()\n",
    "m.drawstates()\n",
    "m.drawmapboundary(fill_color='#46bcec')\n",
    "m.fillcontinents(color = 'white',lake_color='#46bcec')\n",
    "# convert lat and lon to map projection coordinates\n",
    "lons, lats = m(lon, lat)\n",
    "# plot points as red dots\n",
    "m.scatter(lons, lats, marker = 'o', color='r', zorder=5)\n",
    "\n",
    "plt.show()\n",
    "\n"
   ]
  },
  {
   "cell_type": "code",
   "execution_count": 14,
   "metadata": {},
   "outputs": [
    {
     "data": {
      "text/plain": [
       "array([[25.74878638],\n",
       "       [46.08687449],\n",
       "       [20.71231518],\n",
       "       ...,\n",
       "       [22.20360331],\n",
       "       [22.09072203],\n",
       "       [28.28427125]])"
      ]
     },
     "execution_count": 14,
     "metadata": {},
     "output_type": "execute_result"
    }
   ],
   "source": [
    "yhist=pd.DataFrame(data['trip_duration'])\n",
    "yhist=(yhist).pow(0.5)\n",
    "yhist[0:5]\n",
    "yhist=yhist.values\n",
    "yhist"
   ]
  },
  {
   "cell_type": "code",
   "execution_count": 15,
   "metadata": {},
   "outputs": [
    {
     "data": {
      "image/png": "[encoded data removed]",
      "text/plain": [
       "<Figure size 432x288 with 1 Axes>"
      ]
     },
     "metadata": {},
     "output_type": "display_data"
    }
   ],
   "source": [
    "import matplotlib.pyplot as plt\n",
    "#rng = np.random.RandomState(10)  # deterministic random data\n",
    "#a = np.hstack((rng.normal(size=10),\n",
    "#                rng.normal(loc=5, scale=2, size=10)))\n",
    "plt.hist(yhist, bins= 'auto')  # arguments are passed to np.histogram\n",
    "plt.xscale('log')\n",
    "plt.title(\"Histogram Trip Duration\")\n",
    "plt.show()"
   ]
  },
  {
   "cell_type": "code",
   "execution_count": 16,
   "metadata": {},
   "outputs": [
    {
     "data": {
      "image/png": "[encoded data removed]",
      "text/plain": [
       "<Figure size 432x288 with 1 Axes>"
      ]
     },
     "metadata": {},
     "output_type": "display_data"
    }
   ],
   "source": [
    "import matplotlib.pyplot as plt    \n",
    "counts = data['pickup_datetime'].value_counts(sort=False)\n",
    "plt.bar(counts.index,counts)\n",
    "plt.show()"
   ]
  },
  {
   "cell_type": "code",
   "execution_count": 17,
   "metadata": {},
   "outputs": [
    {
     "data": {
      "text/html": [
       "<div>\n",
       "<style scoped>\n",
       "    .dataframe tbody tr th:only-of-type {\n",
       "        vertical-align: middle;\n",
       "    }\n",
       "\n",
       "    .dataframe tbody tr th {\n",
       "        vertical-align: top;\n",
       "    }\n",
       "\n",
       "    .dataframe thead th {\n",
       "        text-align: right;\n",
       "    }\n",
       "</style>\n",
       "<table border=\"1\" class=\"dataframe\">\n",
       "  <thead>\n",
       "    <tr style=\"text-align: right;\">\n",
       "      <th></th>\n",
       "      <th>vendor_id</th>\n",
       "      <th>passenger_count</th>\n",
       "      <th>trip_duration</th>\n",
       "      <th>Dia_semana_do</th>\n",
       "      <th>Dia_semana_ju</th>\n",
       "      <th>Dia_semana_lu</th>\n",
       "      <th>Dia_semana_ma</th>\n",
       "      <th>Dia_semana_mi</th>\n",
       "      <th>Dia_semana_sa</th>\n",
       "      <th>Dia_semana_vi</th>\n",
       "      <th>Distancia_Eucladiana</th>\n",
       "      <th>segmentos naturales</th>\n",
       "    </tr>\n",
       "  </thead>\n",
       "  <tbody>\n",
       "    <tr>\n",
       "      <th>count</th>\n",
       "      <td>349320.000000</td>\n",
       "      <td>349320.000000</td>\n",
       "      <td>349320.000000</td>\n",
       "      <td>349320.000000</td>\n",
       "      <td>349320.000000</td>\n",
       "      <td>349320.000000</td>\n",
       "      <td>349320.000000</td>\n",
       "      <td>349320.000000</td>\n",
       "      <td>349320.000000</td>\n",
       "      <td>349320.000000</td>\n",
       "      <td>349320.000000</td>\n",
       "      <td>349320.000000</td>\n",
       "    </tr>\n",
       "    <tr>\n",
       "      <th>mean</th>\n",
       "      <td>1.534321</td>\n",
       "      <td>1.663143</td>\n",
       "      <td>837.969111</td>\n",
       "      <td>0.134736</td>\n",
       "      <td>0.148763</td>\n",
       "      <td>0.129294</td>\n",
       "      <td>0.138873</td>\n",
       "      <td>0.144017</td>\n",
       "      <td>0.151749</td>\n",
       "      <td>0.152568</td>\n",
       "      <td>0.035353</td>\n",
       "      <td>1.429806</td>\n",
       "    </tr>\n",
       "    <tr>\n",
       "      <th>std</th>\n",
       "      <td>0.498821</td>\n",
       "      <td>1.311686</td>\n",
       "      <td>676.576568</td>\n",
       "      <td>0.341442</td>\n",
       "      <td>0.355856</td>\n",
       "      <td>0.335526</td>\n",
       "      <td>0.345814</td>\n",
       "      <td>0.351107</td>\n",
       "      <td>0.358778</td>\n",
       "      <td>0.359571</td>\n",
       "      <td>0.041929</td>\n",
       "      <td>0.495049</td>\n",
       "    </tr>\n",
       "    <tr>\n",
       "      <th>min</th>\n",
       "      <td>1.000000</td>\n",
       "      <td>0.000000</td>\n",
       "      <td>1.000000</td>\n",
       "      <td>0.000000</td>\n",
       "      <td>0.000000</td>\n",
       "      <td>0.000000</td>\n",
       "      <td>0.000000</td>\n",
       "      <td>0.000000</td>\n",
       "      <td>0.000000</td>\n",
       "      <td>0.000000</td>\n",
       "      <td>0.000000</td>\n",
       "      <td>1.000000</td>\n",
       "    </tr>\n",
       "    <tr>\n",
       "      <th>25%</th>\n",
       "      <td>1.000000</td>\n",
       "      <td>1.000000</td>\n",
       "      <td>398.000000</td>\n",
       "      <td>0.000000</td>\n",
       "      <td>0.000000</td>\n",
       "      <td>0.000000</td>\n",
       "      <td>0.000000</td>\n",
       "      <td>0.000000</td>\n",
       "      <td>0.000000</td>\n",
       "      <td>0.000000</td>\n",
       "      <td>0.012587</td>\n",
       "      <td>1.000000</td>\n",
       "    </tr>\n",
       "    <tr>\n",
       "      <th>50%</th>\n",
       "      <td>2.000000</td>\n",
       "      <td>1.000000</td>\n",
       "      <td>663.000000</td>\n",
       "      <td>0.000000</td>\n",
       "      <td>0.000000</td>\n",
       "      <td>0.000000</td>\n",
       "      <td>0.000000</td>\n",
       "      <td>0.000000</td>\n",
       "      <td>0.000000</td>\n",
       "      <td>0.000000</td>\n",
       "      <td>0.021231</td>\n",
       "      <td>1.000000</td>\n",
       "    </tr>\n",
       "    <tr>\n",
       "      <th>75%</th>\n",
       "      <td>2.000000</td>\n",
       "      <td>2.000000</td>\n",
       "      <td>1074.000000</td>\n",
       "      <td>0.000000</td>\n",
       "      <td>0.000000</td>\n",
       "      <td>0.000000</td>\n",
       "      <td>0.000000</td>\n",
       "      <td>0.000000</td>\n",
       "      <td>0.000000</td>\n",
       "      <td>0.000000</td>\n",
       "      <td>0.038497</td>\n",
       "      <td>2.000000</td>\n",
       "    </tr>\n",
       "    <tr>\n",
       "      <th>max</th>\n",
       "      <td>2.000000</td>\n",
       "      <td>7.000000</td>\n",
       "      <td>43177.000000</td>\n",
       "      <td>1.000000</td>\n",
       "      <td>1.000000</td>\n",
       "      <td>1.000000</td>\n",
       "      <td>1.000000</td>\n",
       "      <td>1.000000</td>\n",
       "      <td>1.000000</td>\n",
       "      <td>1.000000</td>\n",
       "      <td>0.354755</td>\n",
       "      <td>2.000000</td>\n",
       "    </tr>\n",
       "  </tbody>\n",
       "</table>\n",
       "</div>"
      ],
      "text/plain": [
       "           vendor_id  passenger_count  trip_duration  Dia_semana_do  \\\n",
       "count  349320.000000    349320.000000  349320.000000  349320.000000   \n",
       "mean        1.534321         1.663143     837.969111       0.134736   \n",
       "std         0.498821         1.311686     676.576568       0.341442   \n",
       "min         1.000000         0.000000       1.000000       0.000000   \n",
       "25%         1.000000         1.000000     398.000000       0.000000   \n",
       "50%         2.000000         1.000000     663.000000       0.000000   \n",
       "75%         2.000000         2.000000    1074.000000       0.000000   \n",
       "max         2.000000         7.000000   43177.000000       1.000000   \n",
       "\n",
       "       Dia_semana_ju  Dia_semana_lu  Dia_semana_ma  Dia_semana_mi  \\\n",
       "count  349320.000000  349320.000000  349320.000000  349320.000000   \n",
       "mean        0.148763       0.129294       0.138873       0.144017   \n",
       "std         0.355856       0.335526       0.345814       0.351107   \n",
       "min         0.000000       0.000000       0.000000       0.000000   \n",
       "25%         0.000000       0.000000       0.000000       0.000000   \n",
       "50%         0.000000       0.000000       0.000000       0.000000   \n",
       "75%         0.000000       0.000000       0.000000       0.000000   \n",
       "max         1.000000       1.000000       1.000000       1.000000   \n",
       "\n",
       "       Dia_semana_sa  Dia_semana_vi  Distancia_Eucladiana  segmentos naturales  \n",
       "count  349320.000000  349320.000000         349320.000000        349320.000000  \n",
       "mean        0.151749       0.152568              0.035353             1.429806  \n",
       "std         0.358778       0.359571              0.041929             0.495049  \n",
       "min         0.000000       0.000000              0.000000             1.000000  \n",
       "25%         0.000000       0.000000              0.012587             1.000000  \n",
       "50%         0.000000       0.000000              0.021231             1.000000  \n",
       "75%         0.000000       0.000000              0.038497             2.000000  \n",
       "max         1.000000       1.000000              0.354755             2.000000  "
      ]
     },
     "execution_count": 17,
     "metadata": {},
     "output_type": "execute_result"
    }
   ],
   "source": [
    "data.describe()"
   ]
  },
  {
   "cell_type": "code",
   "execution_count": 18,
   "metadata": {},
   "outputs": [
    {
     "data": {
      "text/plain": [
       "<matplotlib.axes._subplots.AxesSubplot at 0x1ae23ea2e80>"
      ]
     },
     "execution_count": 18,
     "metadata": {},
     "output_type": "execute_result"
    },
    {
     "data": {
      "image/png": "[encoded data removed]",
      "text/plain": [
       "<Figure size 432x288 with 1 Axes>"
      ]
     },
     "metadata": {},
     "output_type": "display_data"
    }
   ],
   "source": [
    "data.boxplot(by='Dia_semana', \n",
    "                       column=['trip_duration'], \n",
    "                       grid=False)"
   ]
  },
  {
   "cell_type": "code",
   "execution_count": 19,
   "metadata": {},
   "outputs": [],
   "source": [
    "#pandas_profiling.ProfileReport(data)\n",
    "#data.to_csv('data/test_enriched.csv') #Para guardar dataset enriquecido de test"
   ]
  },
  {
   "cell_type": "code",
   "execution_count": 20,
   "metadata": {},
   "outputs": [
    {
     "data": {
      "text/plain": [
       "vendor_id                 int64\n",
       "pickup_datetime          object\n",
       "dropoff_datetime         object\n",
       "passenger_count           int64\n",
       "pickup_longitude         object\n",
       "pickup_latitude          object\n",
       "dropoff_longitude        object\n",
       "dropoff_latitude         object\n",
       "store_and_fwd_flag       object\n",
       "trip_duration             int64\n",
       "Dia_semana               object\n",
       "Dia_semana_do             int64\n",
       "Dia_semana_ju             int64\n",
       "Dia_semana_lu             int64\n",
       "Dia_semana_ma             int64\n",
       "Dia_semana_mi             int64\n",
       "Dia_semana_sa             int64\n",
       "Dia_semana_vi             int64\n",
       "Distancia_Eucladiana    float64\n",
       "segmentos naturales       int64\n",
       "dtype: object"
      ]
     },
     "execution_count": 20,
     "metadata": {},
     "output_type": "execute_result"
    }
   ],
   "source": [
    "data.dtypes"
   ]
  },
  {
   "cell_type": "code",
   "execution_count": 21,
   "metadata": {},
   "outputs": [
    {
     "data": {
      "text/plain": [
       "['vendor_id',\n",
       " 'pickup_datetime',\n",
       " 'dropoff_datetime',\n",
       " 'passenger_count',\n",
       " 'pickup_longitude',\n",
       " 'pickup_latitude',\n",
       " 'dropoff_longitude',\n",
       " 'dropoff_latitude',\n",
       " 'store_and_fwd_flag',\n",
       " 'trip_duration',\n",
       " 'Dia_semana',\n",
       " 'Dia_semana_do',\n",
       " 'Dia_semana_ju',\n",
       " 'Dia_semana_lu',\n",
       " 'Dia_semana_ma',\n",
       " 'Dia_semana_mi',\n",
       " 'Dia_semana_sa',\n",
       " 'Dia_semana_vi',\n",
       " 'Distancia_Eucladiana',\n",
       " 'segmentos naturales']"
      ]
     },
     "execution_count": 21,
     "metadata": {},
     "output_type": "execute_result"
    }
   ],
   "source": [
    "list(data.columns.values)"
   ]
  },
  {
   "cell_type": "code",
   "execution_count": 22,
   "metadata": {},
   "outputs": [
    {
     "data": {
      "text/plain": [
       "Index(['vendor_id', 'pickup_datetime', 'dropoff_datetime', 'passenger_count',\n",
       "       'pickup_longitude', 'pickup_latitude', 'dropoff_longitude',\n",
       "       'dropoff_latitude', 'store_and_fwd_flag', 'trip_duration', 'Dia_semana',\n",
       "       'Dia_semana_do', 'Dia_semana_ju', 'Dia_semana_lu', 'Dia_semana_ma',\n",
       "       'Dia_semana_mi', 'Dia_semana_sa', 'Dia_semana_vi',\n",
       "       'Distancia_Eucladiana', 'segmentos naturales'],\n",
       "      dtype='object')"
      ]
     },
     "execution_count": 22,
     "metadata": {},
     "output_type": "execute_result"
    }
   ],
   "source": [
    "data.columns"
   ]
  },
  {
   "cell_type": "code",
   "execution_count": 23,
   "metadata": {},
   "outputs": [
    {
     "data": {
      "text/html": [
       "<div>\n",
       "<style scoped>\n",
       "    .dataframe tbody tr th:only-of-type {\n",
       "        vertical-align: middle;\n",
       "    }\n",
       "\n",
       "    .dataframe tbody tr th {\n",
       "        vertical-align: top;\n",
       "    }\n",
       "\n",
       "    .dataframe thead th {\n",
       "        text-align: right;\n",
       "    }\n",
       "</style>\n",
       "<table border=\"1\" class=\"dataframe\">\n",
       "  <thead>\n",
       "    <tr style=\"text-align: right;\">\n",
       "      <th></th>\n",
       "      <th>vendor1</th>\n",
       "      <th>vendor2</th>\n",
       "    </tr>\n",
       "  </thead>\n",
       "  <tbody>\n",
       "    <tr>\n",
       "      <th>0</th>\n",
       "      <td>1</td>\n",
       "      <td>0</td>\n",
       "    </tr>\n",
       "    <tr>\n",
       "      <th>1</th>\n",
       "      <td>0</td>\n",
       "      <td>1</td>\n",
       "    </tr>\n",
       "    <tr>\n",
       "      <th>2</th>\n",
       "      <td>0</td>\n",
       "      <td>1</td>\n",
       "    </tr>\n",
       "    <tr>\n",
       "      <th>3</th>\n",
       "      <td>0</td>\n",
       "      <td>1</td>\n",
       "    </tr>\n",
       "    <tr>\n",
       "      <th>4</th>\n",
       "      <td>0</td>\n",
       "      <td>1</td>\n",
       "    </tr>\n",
       "  </tbody>\n",
       "</table>\n",
       "</div>"
      ],
      "text/plain": [
       "   vendor1  vendor2\n",
       "0        1        0\n",
       "1        0        1\n",
       "2        0        1\n",
       "3        0        1\n",
       "4        0        1"
      ]
     },
     "execution_count": 23,
     "metadata": {},
     "output_type": "execute_result"
    }
   ],
   "source": [
    "cat_vendor_id= pd.DataFrame(pd.get_dummies(data['vendor_id']))\n",
    "cat_vendor_id=np.asarray(cat_vendor_id)\n",
    "cat_vendor_id=pd.DataFrame(cat_vendor_id)\n",
    "cat_vendor_id.columns=['vendor1','vendor2']\n",
    "cat_vendor_id[0:5]"
   ]
  },
  {
   "cell_type": "code",
   "execution_count": 24,
   "metadata": {},
   "outputs": [
    {
     "data": {
      "text/html": [
       "<div>\n",
       "<style scoped>\n",
       "    .dataframe tbody tr th:only-of-type {\n",
       "        vertical-align: middle;\n",
       "    }\n",
       "\n",
       "    .dataframe tbody tr th {\n",
       "        vertical-align: top;\n",
       "    }\n",
       "\n",
       "    .dataframe thead th {\n",
       "        text-align: right;\n",
       "    }\n",
       "</style>\n",
       "<table border=\"1\" class=\"dataframe\">\n",
       "  <thead>\n",
       "    <tr style=\"text-align: right;\">\n",
       "      <th></th>\n",
       "      <th>store_flag_N</th>\n",
       "      <th>store_flag_Y</th>\n",
       "    </tr>\n",
       "  </thead>\n",
       "  <tbody>\n",
       "    <tr>\n",
       "      <th>0</th>\n",
       "      <td>1</td>\n",
       "      <td>0</td>\n",
       "    </tr>\n",
       "    <tr>\n",
       "      <th>1</th>\n",
       "      <td>1</td>\n",
       "      <td>0</td>\n",
       "    </tr>\n",
       "    <tr>\n",
       "      <th>2</th>\n",
       "      <td>1</td>\n",
       "      <td>0</td>\n",
       "    </tr>\n",
       "    <tr>\n",
       "      <th>3</th>\n",
       "      <td>1</td>\n",
       "      <td>0</td>\n",
       "    </tr>\n",
       "    <tr>\n",
       "      <th>4</th>\n",
       "      <td>1</td>\n",
       "      <td>0</td>\n",
       "    </tr>\n",
       "  </tbody>\n",
       "</table>\n",
       "</div>"
      ],
      "text/plain": [
       "   store_flag_N  store_flag_Y\n",
       "0             1             0\n",
       "1             1             0\n",
       "2             1             0\n",
       "3             1             0\n",
       "4             1             0"
      ]
     },
     "execution_count": 24,
     "metadata": {},
     "output_type": "execute_result"
    }
   ],
   "source": [
    "cat_store_and_fwd_flag = pd.DataFrame(pd.get_dummies(data['store_and_fwd_flag']))\n",
    "cat_store_and_fwd_flag =np.asarray(cat_store_and_fwd_flag)\n",
    "cat_store_and_fwd_flag =pd.DataFrame(cat_store_and_fwd_flag)\n",
    "cat_store_and_fwd_flag.columns=['store_flag_N','store_flag_Y']\n",
    "cat_store_and_fwd_flag[0:5]"
   ]
  },
  {
   "cell_type": "code",
   "execution_count": 25,
   "metadata": {},
   "outputs": [
    {
     "data": {
      "text/html": [
       "<div>\n",
       "<style scoped>\n",
       "    .dataframe tbody tr th:only-of-type {\n",
       "        vertical-align: middle;\n",
       "    }\n",
       "\n",
       "    .dataframe tbody tr th {\n",
       "        vertical-align: top;\n",
       "    }\n",
       "\n",
       "    .dataframe thead th {\n",
       "        text-align: right;\n",
       "    }\n",
       "</style>\n",
       "<table border=\"1\" class=\"dataframe\">\n",
       "  <thead>\n",
       "    <tr style=\"text-align: right;\">\n",
       "      <th></th>\n",
       "      <th>pickup_datetime</th>\n",
       "      <th>dropoff_datetime</th>\n",
       "      <th>passenger_count</th>\n",
       "      <th>pickup_longitude</th>\n",
       "      <th>pickup_latitude</th>\n",
       "      <th>dropoff_longitude</th>\n",
       "      <th>dropoff_latitude</th>\n",
       "      <th>Dia_semana</th>\n",
       "      <th>Dia_semana_do</th>\n",
       "      <th>Dia_semana_ju</th>\n",
       "      <th>Dia_semana_lu</th>\n",
       "      <th>Dia_semana_ma</th>\n",
       "      <th>Dia_semana_mi</th>\n",
       "      <th>Dia_semana_sa</th>\n",
       "      <th>Dia_semana_vi</th>\n",
       "      <th>Distancia_Eucladiana</th>\n",
       "      <th>segmentos naturales</th>\n",
       "      <th>trip_duration</th>\n",
       "    </tr>\n",
       "  </thead>\n",
       "  <tbody>\n",
       "    <tr>\n",
       "      <th>0</th>\n",
       "      <td>12/06/2016</td>\n",
       "      <td>12/06/2016 0:54</td>\n",
       "      <td>1</td>\n",
       "      <td>-73.980.415</td>\n",
       "      <td>40.738.564</td>\n",
       "      <td>-73.999.481</td>\n",
       "      <td>40.731.152</td>\n",
       "      <td>do</td>\n",
       "      <td>1</td>\n",
       "      <td>0</td>\n",
       "      <td>0</td>\n",
       "      <td>0</td>\n",
       "      <td>0</td>\n",
       "      <td>0</td>\n",
       "      <td>0</td>\n",
       "      <td>0.020456</td>\n",
       "      <td>1</td>\n",
       "      <td>663</td>\n",
       "    </tr>\n",
       "    <tr>\n",
       "      <th>1</th>\n",
       "      <td>19/01/2016</td>\n",
       "      <td>19/01/2016 12:10</td>\n",
       "      <td>1</td>\n",
       "      <td>-73.979.027</td>\n",
       "      <td>40.763.939</td>\n",
       "      <td>-74.005.333</td>\n",
       "      <td>40.710.087</td>\n",
       "      <td>ma</td>\n",
       "      <td>0</td>\n",
       "      <td>0</td>\n",
       "      <td>0</td>\n",
       "      <td>1</td>\n",
       "      <td>0</td>\n",
       "      <td>0</td>\n",
       "      <td>0</td>\n",
       "      <td>0.059934</td>\n",
       "      <td>1</td>\n",
       "      <td>2124</td>\n",
       "    </tr>\n",
       "    <tr>\n",
       "      <th>2</th>\n",
       "      <td>6/04/2016</td>\n",
       "      <td>6/04/2016 19:39</td>\n",
       "      <td>1</td>\n",
       "      <td>-74.010.040</td>\n",
       "      <td>40.719.971</td>\n",
       "      <td>-74.012.268</td>\n",
       "      <td>40.706.718</td>\n",
       "      <td>mi</td>\n",
       "      <td>0</td>\n",
       "      <td>0</td>\n",
       "      <td>0</td>\n",
       "      <td>0</td>\n",
       "      <td>1</td>\n",
       "      <td>0</td>\n",
       "      <td>0</td>\n",
       "      <td>0.013438</td>\n",
       "      <td>1</td>\n",
       "      <td>429</td>\n",
       "    </tr>\n",
       "    <tr>\n",
       "      <th>3</th>\n",
       "      <td>26/03/2016</td>\n",
       "      <td>26/03/2016 13:38</td>\n",
       "      <td>1</td>\n",
       "      <td>-73.973.053</td>\n",
       "      <td>40.793.209</td>\n",
       "      <td>-73.972.923</td>\n",
       "      <td>40.782.520</td>\n",
       "      <td>sa</td>\n",
       "      <td>0</td>\n",
       "      <td>0</td>\n",
       "      <td>0</td>\n",
       "      <td>0</td>\n",
       "      <td>0</td>\n",
       "      <td>1</td>\n",
       "      <td>0</td>\n",
       "      <td>0.010690</td>\n",
       "      <td>2</td>\n",
       "      <td>435</td>\n",
       "    </tr>\n",
       "    <tr>\n",
       "      <th>4</th>\n",
       "      <td>19/02/2016</td>\n",
       "      <td>19/02/2016 10:11</td>\n",
       "      <td>2</td>\n",
       "      <td>-73.962.982</td>\n",
       "      <td>40.756.680</td>\n",
       "      <td>-73.984.406</td>\n",
       "      <td>40.760.719</td>\n",
       "      <td>vi</td>\n",
       "      <td>0</td>\n",
       "      <td>0</td>\n",
       "      <td>0</td>\n",
       "      <td>0</td>\n",
       "      <td>0</td>\n",
       "      <td>0</td>\n",
       "      <td>1</td>\n",
       "      <td>0.021801</td>\n",
       "      <td>1</td>\n",
       "      <td>1114</td>\n",
       "    </tr>\n",
       "  </tbody>\n",
       "</table>\n",
       "</div>"
      ],
      "text/plain": [
       "  pickup_datetime  dropoff_datetime  passenger_count pickup_longitude  \\\n",
       "0      12/06/2016   12/06/2016 0:54                1      -73.980.415   \n",
       "1      19/01/2016  19/01/2016 12:10                1      -73.979.027   \n",
       "2       6/04/2016   6/04/2016 19:39                1      -74.010.040   \n",
       "3      26/03/2016  26/03/2016 13:38                1      -73.973.053   \n",
       "4      19/02/2016  19/02/2016 10:11                2      -73.962.982   \n",
       "\n",
       "  pickup_latitude dropoff_longitude dropoff_latitude Dia_semana  \\\n",
       "0      40.738.564       -73.999.481       40.731.152         do   \n",
       "1      40.763.939       -74.005.333       40.710.087         ma   \n",
       "2      40.719.971       -74.012.268       40.706.718         mi   \n",
       "3      40.793.209       -73.972.923       40.782.520         sa   \n",
       "4      40.756.680       -73.984.406       40.760.719         vi   \n",
       "\n",
       "   Dia_semana_do  Dia_semana_ju  Dia_semana_lu  Dia_semana_ma  Dia_semana_mi  \\\n",
       "0              1              0              0              0              0   \n",
       "1              0              0              0              1              0   \n",
       "2              0              0              0              0              1   \n",
       "3              0              0              0              0              0   \n",
       "4              0              0              0              0              0   \n",
       "\n",
       "   Dia_semana_sa  Dia_semana_vi  Distancia_Eucladiana  segmentos naturales  \\\n",
       "0              0              0              0.020456                    1   \n",
       "1              0              0              0.059934                    1   \n",
       "2              0              0              0.013438                    1   \n",
       "3              1              0              0.010690                    2   \n",
       "4              0              1              0.021801                    1   \n",
       "\n",
       "   trip_duration  \n",
       "0            663  \n",
       "1           2124  \n",
       "2            429  \n",
       "3            435  \n",
       "4           1114  "
      ]
     },
     "execution_count": 25,
     "metadata": {},
     "output_type": "execute_result"
    }
   ],
   "source": [
    "data_temp=data[['pickup_datetime', 'dropoff_datetime','passenger_count', 'pickup_longitude', 'pickup_latitude','dropoff_longitude', 'dropoff_latitude', 'Dia_semana', 'Dia_semana_do', 'Dia_semana_ju','Dia_semana_lu', 'Dia_semana_ma', 'Dia_semana_mi', 'Dia_semana_sa','Dia_semana_vi','Distancia_Eucladiana', 'segmentos naturales','trip_duration']]\n",
    "data_temp[0:5]"
   ]
  },
  {
   "cell_type": "code",
   "execution_count": 26,
   "metadata": {},
   "outputs": [
    {
     "data": {
      "text/plain": [
       "Index(['pickup_datetime', 'dropoff_datetime', 'passenger_count',\n",
       "       'pickup_longitude', 'pickup_latitude', 'dropoff_longitude',\n",
       "       'dropoff_latitude', 'Dia_semana', 'Dia_semana_do', 'Dia_semana_ju',\n",
       "       'Dia_semana_lu', 'Dia_semana_ma', 'Dia_semana_mi', 'Dia_semana_sa',\n",
       "       'Dia_semana_vi', 'Distancia_Eucladiana', 'segmentos naturales',\n",
       "       'trip_duration'],\n",
       "      dtype='object')"
      ]
     },
     "execution_count": 26,
     "metadata": {},
     "output_type": "execute_result"
    }
   ],
   "source": [
    "data_temp.columns"
   ]
  },
  {
   "cell_type": "code",
   "execution_count": 27,
   "metadata": {},
   "outputs": [],
   "source": [
    "feature_cols = ['passenger_count', 'pickup_longitude', 'pickup_latitude','dropoff_longitude', 'dropoff_latitude','Dia_semana_do', 'Dia_semana_ju','Dia_semana_lu', 'Dia_semana_ma', 'Dia_semana_mi', 'Dia_semana_sa','Dia_semana_vi', 'Distancia_Eucladiana', 'segmentos naturales']\n",
    "X = data_temp[feature_cols]\n",
    "y = data_temp.trip_duration"
   ]
  },
  {
   "cell_type": "code",
   "execution_count": 28,
   "metadata": {},
   "outputs": [],
   "source": [
    "# train/test split\n",
    "from sklearn.model_selection import train_test_split\n",
    "X_train, X_test, y_train, y_test = train_test_split(X, y, random_state=1)"
   ]
  },
  {
   "cell_type": "code",
   "execution_count": 29,
   "metadata": {},
   "outputs": [],
   "source": [
    "X_train.to_csv('X_train.csv')\n",
    "X_test.to_csv('X_test.csv')\n",
    "y_train.to_csv('y_train.csv')\n",
    "y_test.to_csv('y_test.csv')"
   ]
  },
  {
   "cell_type": "code",
   "execution_count": 30,
   "metadata": {},
   "outputs": [
    {
     "data": {
      "text/html": [
       "<div>\n",
       "<style scoped>\n",
       "    .dataframe tbody tr th:only-of-type {\n",
       "        vertical-align: middle;\n",
       "    }\n",
       "\n",
       "    .dataframe tbody tr th {\n",
       "        vertical-align: top;\n",
       "    }\n",
       "\n",
       "    .dataframe thead th {\n",
       "        text-align: right;\n",
       "    }\n",
       "</style>\n",
       "<table border=\"1\" class=\"dataframe\">\n",
       "  <thead>\n",
       "    <tr style=\"text-align: right;\">\n",
       "      <th></th>\n",
       "      <th>passenger_count</th>\n",
       "      <th>pickup_longitude</th>\n",
       "      <th>pickup_latitude</th>\n",
       "      <th>dropoff_longitude</th>\n",
       "      <th>dropoff_latitude</th>\n",
       "      <th>Dia_semana_do</th>\n",
       "      <th>Dia_semana_ju</th>\n",
       "      <th>Dia_semana_lu</th>\n",
       "      <th>Dia_semana_ma</th>\n",
       "      <th>Dia_semana_mi</th>\n",
       "      <th>Dia_semana_sa</th>\n",
       "      <th>Dia_semana_vi</th>\n",
       "      <th>Distancia_Eucladiana</th>\n",
       "      <th>segmentos naturales</th>\n",
       "    </tr>\n",
       "  </thead>\n",
       "  <tbody>\n",
       "    <tr>\n",
       "      <th>0</th>\n",
       "      <td>1</td>\n",
       "      <td>-73.949.272</td>\n",
       "      <td>40.784.309</td>\n",
       "      <td>-73.953.377</td>\n",
       "      <td>40.782.536</td>\n",
       "      <td>0</td>\n",
       "      <td>0</td>\n",
       "      <td>0</td>\n",
       "      <td>0</td>\n",
       "      <td>0</td>\n",
       "      <td>1</td>\n",
       "      <td>0</td>\n",
       "      <td>0.004472</td>\n",
       "      <td>2</td>\n",
       "    </tr>\n",
       "    <tr>\n",
       "      <th>1</th>\n",
       "      <td>2</td>\n",
       "      <td>-73.972.832</td>\n",
       "      <td>40.747.581</td>\n",
       "      <td>-73.980.118</td>\n",
       "      <td>40.746.151</td>\n",
       "      <td>0</td>\n",
       "      <td>1</td>\n",
       "      <td>0</td>\n",
       "      <td>0</td>\n",
       "      <td>0</td>\n",
       "      <td>0</td>\n",
       "      <td>0</td>\n",
       "      <td>0.007425</td>\n",
       "      <td>2</td>\n",
       "    </tr>\n",
       "    <tr>\n",
       "      <th>2</th>\n",
       "      <td>1</td>\n",
       "      <td>-73.979.210</td>\n",
       "      <td>40.753.063</td>\n",
       "      <td>-73.972.588</td>\n",
       "      <td>40.743.526</td>\n",
       "      <td>0</td>\n",
       "      <td>0</td>\n",
       "      <td>0</td>\n",
       "      <td>1</td>\n",
       "      <td>0</td>\n",
       "      <td>0</td>\n",
       "      <td>0</td>\n",
       "      <td>0.011611</td>\n",
       "      <td>1</td>\n",
       "    </tr>\n",
       "    <tr>\n",
       "      <th>3</th>\n",
       "      <td>1</td>\n",
       "      <td>-73.984.261</td>\n",
       "      <td>40.766.781</td>\n",
       "      <td>-73.872.231</td>\n",
       "      <td>40.774.101</td>\n",
       "      <td>0</td>\n",
       "      <td>0</td>\n",
       "      <td>0</td>\n",
       "      <td>0</td>\n",
       "      <td>0</td>\n",
       "      <td>0</td>\n",
       "      <td>1</td>\n",
       "      <td>0.112269</td>\n",
       "      <td>1</td>\n",
       "    </tr>\n",
       "    <tr>\n",
       "      <th>4</th>\n",
       "      <td>1</td>\n",
       "      <td>-73.975.922</td>\n",
       "      <td>40.755.421</td>\n",
       "      <td>-73.950.233</td>\n",
       "      <td>40.786.739</td>\n",
       "      <td>0</td>\n",
       "      <td>0</td>\n",
       "      <td>1</td>\n",
       "      <td>0</td>\n",
       "      <td>0</td>\n",
       "      <td>0</td>\n",
       "      <td>0</td>\n",
       "      <td>0.040506</td>\n",
       "      <td>2</td>\n",
       "    </tr>\n",
       "  </tbody>\n",
       "</table>\n",
       "</div>"
      ],
      "text/plain": [
       "   passenger_count pickup_longitude pickup_latitude dropoff_longitude  \\\n",
       "0                1      -73.949.272      40.784.309       -73.953.377   \n",
       "1                2      -73.972.832      40.747.581       -73.980.118   \n",
       "2                1      -73.979.210      40.753.063       -73.972.588   \n",
       "3                1      -73.984.261      40.766.781       -73.872.231   \n",
       "4                1      -73.975.922      40.755.421       -73.950.233   \n",
       "\n",
       "  dropoff_latitude  Dia_semana_do  Dia_semana_ju  Dia_semana_lu  \\\n",
       "0       40.782.536              0              0              0   \n",
       "1       40.746.151              0              1              0   \n",
       "2       40.743.526              0              0              0   \n",
       "3       40.774.101              0              0              0   \n",
       "4       40.786.739              0              0              1   \n",
       "\n",
       "   Dia_semana_ma  Dia_semana_mi  Dia_semana_sa  Dia_semana_vi  \\\n",
       "0              0              0              1              0   \n",
       "1              0              0              0              0   \n",
       "2              1              0              0              0   \n",
       "3              0              0              0              1   \n",
       "4              0              0              0              0   \n",
       "\n",
       "   Distancia_Eucladiana  segmentos naturales  \n",
       "0              0.004472                    2  \n",
       "1              0.007425                    2  \n",
       "2              0.011611                    1  \n",
       "3              0.112269                    1  \n",
       "4              0.040506                    2  "
      ]
     },
     "execution_count": 30,
     "metadata": {},
     "output_type": "execute_result"
    }
   ],
   "source": [
    "import pandas as pd\n",
    "X_train1 = pd.read_csv('data/X_train.csv', sep=',')\n",
    "X_train1 = X_train1[X_train1.columns[1:20]] \n",
    "X_train1.head()"
   ]
  },
  {
   "cell_type": "code",
   "execution_count": 31,
   "metadata": {},
   "outputs": [
    {
     "data": {
      "text/html": [
       "<div>\n",
       "<style scoped>\n",
       "    .dataframe tbody tr th:only-of-type {\n",
       "        vertical-align: middle;\n",
       "    }\n",
       "\n",
       "    .dataframe tbody tr th {\n",
       "        vertical-align: top;\n",
       "    }\n",
       "\n",
       "    .dataframe thead th {\n",
       "        text-align: right;\n",
       "    }\n",
       "</style>\n",
       "<table border=\"1\" class=\"dataframe\">\n",
       "  <thead>\n",
       "    <tr style=\"text-align: right;\">\n",
       "      <th></th>\n",
       "      <th>passenger_count</th>\n",
       "      <th>pickup_longitude</th>\n",
       "      <th>pickup_latitude</th>\n",
       "      <th>dropoff_longitude</th>\n",
       "      <th>dropoff_latitude</th>\n",
       "      <th>Dia_semana_do</th>\n",
       "      <th>Dia_semana_ju</th>\n",
       "      <th>Dia_semana_lu</th>\n",
       "      <th>Dia_semana_ma</th>\n",
       "      <th>Dia_semana_mi</th>\n",
       "      <th>Dia_semana_sa</th>\n",
       "      <th>Dia_semana_vi</th>\n",
       "      <th>Distancia_Eucladiana</th>\n",
       "      <th>segmentos naturales</th>\n",
       "    </tr>\n",
       "  </thead>\n",
       "  <tbody>\n",
       "    <tr>\n",
       "      <th>0</th>\n",
       "      <td>1</td>\n",
       "      <td>-73.970.070</td>\n",
       "      <td>40.793.976</td>\n",
       "      <td>-73.956.055</td>\n",
       "      <td>40.778.980</td>\n",
       "      <td>0</td>\n",
       "      <td>1</td>\n",
       "      <td>0</td>\n",
       "      <td>0</td>\n",
       "      <td>0</td>\n",
       "      <td>0</td>\n",
       "      <td>0</td>\n",
       "      <td>0.020525</td>\n",
       "      <td>2</td>\n",
       "    </tr>\n",
       "    <tr>\n",
       "      <th>1</th>\n",
       "      <td>1</td>\n",
       "      <td>-73.981.644</td>\n",
       "      <td>40.778.599</td>\n",
       "      <td>-73.969.559</td>\n",
       "      <td>40.793.846</td>\n",
       "      <td>0</td>\n",
       "      <td>0</td>\n",
       "      <td>0</td>\n",
       "      <td>0</td>\n",
       "      <td>0</td>\n",
       "      <td>0</td>\n",
       "      <td>1</td>\n",
       "      <td>0.019456</td>\n",
       "      <td>1</td>\n",
       "    </tr>\n",
       "    <tr>\n",
       "      <th>2</th>\n",
       "      <td>1</td>\n",
       "      <td>-73.960.266</td>\n",
       "      <td>40.770.615</td>\n",
       "      <td>-73.970.627</td>\n",
       "      <td>40.758.713</td>\n",
       "      <td>0</td>\n",
       "      <td>0</td>\n",
       "      <td>1</td>\n",
       "      <td>0</td>\n",
       "      <td>0</td>\n",
       "      <td>0</td>\n",
       "      <td>0</td>\n",
       "      <td>0.015780</td>\n",
       "      <td>2</td>\n",
       "    </tr>\n",
       "    <tr>\n",
       "      <th>3</th>\n",
       "      <td>2</td>\n",
       "      <td>-73.978.172</td>\n",
       "      <td>40.783.421</td>\n",
       "      <td>-73.960.815</td>\n",
       "      <td>40.807.030</td>\n",
       "      <td>0</td>\n",
       "      <td>0</td>\n",
       "      <td>0</td>\n",
       "      <td>0</td>\n",
       "      <td>1</td>\n",
       "      <td>0</td>\n",
       "      <td>0</td>\n",
       "      <td>0.029303</td>\n",
       "      <td>1</td>\n",
       "    </tr>\n",
       "    <tr>\n",
       "      <th>4</th>\n",
       "      <td>1</td>\n",
       "      <td>-73.998.512</td>\n",
       "      <td>40.760.723</td>\n",
       "      <td>-74.004.143</td>\n",
       "      <td>40.737.583</td>\n",
       "      <td>0</td>\n",
       "      <td>0</td>\n",
       "      <td>1</td>\n",
       "      <td>0</td>\n",
       "      <td>0</td>\n",
       "      <td>0</td>\n",
       "      <td>0</td>\n",
       "      <td>0.023815</td>\n",
       "      <td>2</td>\n",
       "    </tr>\n",
       "  </tbody>\n",
       "</table>\n",
       "</div>"
      ],
      "text/plain": [
       "   passenger_count pickup_longitude pickup_latitude dropoff_longitude  \\\n",
       "0                1      -73.970.070      40.793.976       -73.956.055   \n",
       "1                1      -73.981.644      40.778.599       -73.969.559   \n",
       "2                1      -73.960.266      40.770.615       -73.970.627   \n",
       "3                2      -73.978.172      40.783.421       -73.960.815   \n",
       "4                1      -73.998.512      40.760.723       -74.004.143   \n",
       "\n",
       "  dropoff_latitude  Dia_semana_do  Dia_semana_ju  Dia_semana_lu  \\\n",
       "0       40.778.980              0              1              0   \n",
       "1       40.793.846              0              0              0   \n",
       "2       40.758.713              0              0              1   \n",
       "3       40.807.030              0              0              0   \n",
       "4       40.737.583              0              0              1   \n",
       "\n",
       "   Dia_semana_ma  Dia_semana_mi  Dia_semana_sa  Dia_semana_vi  \\\n",
       "0              0              0              0              0   \n",
       "1              0              0              0              1   \n",
       "2              0              0              0              0   \n",
       "3              0              1              0              0   \n",
       "4              0              0              0              0   \n",
       "\n",
       "   Distancia_Eucladiana  segmentos naturales  \n",
       "0              0.020525                    2  \n",
       "1              0.019456                    1  \n",
       "2              0.015780                    2  \n",
       "3              0.029303                    1  \n",
       "4              0.023815                    2  "
      ]
     },
     "execution_count": 31,
     "metadata": {},
     "output_type": "execute_result"
    }
   ],
   "source": [
    "X_test1 = pd.read_csv('data/X_test.csv', sep=',')\n",
    "X_test1 = X_test1[X_test1.columns[1:20]] \n",
    "X_test1.head()"
   ]
  },
  {
   "cell_type": "code",
   "execution_count": 32,
   "metadata": {},
   "outputs": [
    {
     "data": {
      "text/plain": [
       "0     146\n",
       "1     899\n",
       "2     335\n",
       "3    1796\n",
       "4    1021\n",
       "Name: y, dtype: int64"
      ]
     },
     "execution_count": 32,
     "metadata": {},
     "output_type": "execute_result"
    }
   ],
   "source": [
    "y_train1 = pd.read_csv('data/y_train.csv', sep=',')\n",
    "y_train1 = y_train1['y']\n",
    "y_train1.head()"
   ]
  },
  {
   "cell_type": "code",
   "execution_count": 33,
   "metadata": {},
   "outputs": [
    {
     "data": {
      "text/plain": [
       "passenger_count           int64\n",
       "pickup_longitude         object\n",
       "pickup_latitude          object\n",
       "dropoff_longitude        object\n",
       "dropoff_latitude         object\n",
       "Dia_semana_do             int64\n",
       "Dia_semana_ju             int64\n",
       "Dia_semana_lu             int64\n",
       "Dia_semana_ma             int64\n",
       "Dia_semana_mi             int64\n",
       "Dia_semana_sa             int64\n",
       "Dia_semana_vi             int64\n",
       "Distancia_Eucladiana    float64\n",
       "segmentos naturales       int64\n",
       "dtype: object"
      ]
     },
     "execution_count": 33,
     "metadata": {},
     "output_type": "execute_result"
    }
   ],
   "source": [
    "X_train1.dtypes"
   ]
  },
  {
   "cell_type": "code",
   "execution_count": 34,
   "metadata": {},
   "outputs": [
    {
     "data": {
      "text/plain": [
       "0    548\n",
       "1    431\n",
       "2    571\n",
       "3    966\n",
       "4     37\n",
       "Name: y, dtype: int64"
      ]
     },
     "execution_count": 34,
     "metadata": {},
     "output_type": "execute_result"
    }
   ],
   "source": [
    "y_test1 = pd.read_csv('data/y_test.csv', sep=',')\n",
    "y_test1 = y_test1['y']\n",
    "y_test1.head()"
   ]
  },
  {
   "cell_type": "code",
   "execution_count": 35,
   "metadata": {},
   "outputs": [
    {
     "data": {
      "text/html": [
       "<div>\n",
       "<style scoped>\n",
       "    .dataframe tbody tr th:only-of-type {\n",
       "        vertical-align: middle;\n",
       "    }\n",
       "\n",
       "    .dataframe tbody tr th {\n",
       "        vertical-align: top;\n",
       "    }\n",
       "\n",
       "    .dataframe thead th {\n",
       "        text-align: right;\n",
       "    }\n",
       "</style>\n",
       "<table border=\"1\" class=\"dataframe\">\n",
       "  <thead>\n",
       "    <tr style=\"text-align: right;\">\n",
       "      <th></th>\n",
       "      <th>passenger_count</th>\n",
       "      <th>pickup_longitude</th>\n",
       "      <th>pickup_latitude</th>\n",
       "      <th>dropoff_longitude</th>\n",
       "      <th>dropoff_latitude</th>\n",
       "      <th>Dia_semana_do</th>\n",
       "      <th>Dia_semana_ju</th>\n",
       "      <th>Dia_semana_lu</th>\n",
       "      <th>Dia_semana_ma</th>\n",
       "      <th>Dia_semana_mi</th>\n",
       "      <th>Dia_semana_sa</th>\n",
       "      <th>Dia_semana_vi</th>\n",
       "      <th>Distancia_Eucladiana</th>\n",
       "      <th>segmentos naturales</th>\n",
       "    </tr>\n",
       "  </thead>\n",
       "  <tbody>\n",
       "    <tr>\n",
       "      <th>0</th>\n",
       "      <td>1</td>\n",
       "      <td>-73.949.272</td>\n",
       "      <td>40.784.309</td>\n",
       "      <td>-73.953.377</td>\n",
       "      <td>40.782.536</td>\n",
       "      <td>0</td>\n",
       "      <td>0</td>\n",
       "      <td>0</td>\n",
       "      <td>0</td>\n",
       "      <td>0</td>\n",
       "      <td>1</td>\n",
       "      <td>0</td>\n",
       "      <td>0.004472</td>\n",
       "      <td>2</td>\n",
       "    </tr>\n",
       "    <tr>\n",
       "      <th>1</th>\n",
       "      <td>2</td>\n",
       "      <td>-73.972.832</td>\n",
       "      <td>40.747.581</td>\n",
       "      <td>-73.980.118</td>\n",
       "      <td>40.746.151</td>\n",
       "      <td>0</td>\n",
       "      <td>1</td>\n",
       "      <td>0</td>\n",
       "      <td>0</td>\n",
       "      <td>0</td>\n",
       "      <td>0</td>\n",
       "      <td>0</td>\n",
       "      <td>0.007425</td>\n",
       "      <td>2</td>\n",
       "    </tr>\n",
       "    <tr>\n",
       "      <th>2</th>\n",
       "      <td>1</td>\n",
       "      <td>-73.979.210</td>\n",
       "      <td>40.753.063</td>\n",
       "      <td>-73.972.588</td>\n",
       "      <td>40.743.526</td>\n",
       "      <td>0</td>\n",
       "      <td>0</td>\n",
       "      <td>0</td>\n",
       "      <td>1</td>\n",
       "      <td>0</td>\n",
       "      <td>0</td>\n",
       "      <td>0</td>\n",
       "      <td>0.011611</td>\n",
       "      <td>1</td>\n",
       "    </tr>\n",
       "    <tr>\n",
       "      <th>3</th>\n",
       "      <td>1</td>\n",
       "      <td>-73.984.261</td>\n",
       "      <td>40.766.781</td>\n",
       "      <td>-73.872.231</td>\n",
       "      <td>40.774.101</td>\n",
       "      <td>0</td>\n",
       "      <td>0</td>\n",
       "      <td>0</td>\n",
       "      <td>0</td>\n",
       "      <td>0</td>\n",
       "      <td>0</td>\n",
       "      <td>1</td>\n",
       "      <td>0.112269</td>\n",
       "      <td>1</td>\n",
       "    </tr>\n",
       "    <tr>\n",
       "      <th>4</th>\n",
       "      <td>1</td>\n",
       "      <td>-73.975.922</td>\n",
       "      <td>40.755.421</td>\n",
       "      <td>-73.950.233</td>\n",
       "      <td>40.786.739</td>\n",
       "      <td>0</td>\n",
       "      <td>0</td>\n",
       "      <td>1</td>\n",
       "      <td>0</td>\n",
       "      <td>0</td>\n",
       "      <td>0</td>\n",
       "      <td>0</td>\n",
       "      <td>0.040506</td>\n",
       "      <td>2</td>\n",
       "    </tr>\n",
       "  </tbody>\n",
       "</table>\n",
       "</div>"
      ],
      "text/plain": [
       "   passenger_count pickup_longitude pickup_latitude dropoff_longitude  \\\n",
       "0                1      -73.949.272      40.784.309       -73.953.377   \n",
       "1                2      -73.972.832      40.747.581       -73.980.118   \n",
       "2                1      -73.979.210      40.753.063       -73.972.588   \n",
       "3                1      -73.984.261      40.766.781       -73.872.231   \n",
       "4                1      -73.975.922      40.755.421       -73.950.233   \n",
       "\n",
       "  dropoff_latitude  Dia_semana_do  Dia_semana_ju  Dia_semana_lu  \\\n",
       "0       40.782.536              0              0              0   \n",
       "1       40.746.151              0              1              0   \n",
       "2       40.743.526              0              0              0   \n",
       "3       40.774.101              0              0              0   \n",
       "4       40.786.739              0              0              1   \n",
       "\n",
       "   Dia_semana_ma  Dia_semana_mi  Dia_semana_sa  Dia_semana_vi  \\\n",
       "0              0              0              1              0   \n",
       "1              0              0              0              0   \n",
       "2              1              0              0              0   \n",
       "3              0              0              0              1   \n",
       "4              0              0              0              0   \n",
       "\n",
       "   Distancia_Eucladiana  segmentos naturales  \n",
       "0              0.004472                    2  \n",
       "1              0.007425                    2  \n",
       "2              0.011611                    1  \n",
       "3              0.112269                    1  \n",
       "4              0.040506                    2  "
      ]
     },
     "execution_count": 35,
     "metadata": {},
     "output_type": "execute_result"
    }
   ],
   "source": [
    "X_train1[0:5]"
   ]
  },
  {
   "cell_type": "code",
   "execution_count": 36,
   "metadata": {},
   "outputs": [
    {
     "data": {
      "text/plain": [
       "Index(['passenger_count', 'pickup_longitude', 'pickup_latitude',\n",
       "       'dropoff_longitude', 'dropoff_latitude', 'Dia_semana_do',\n",
       "       'Dia_semana_ju', 'Dia_semana_lu', 'Dia_semana_ma', 'Dia_semana_mi',\n",
       "       'Dia_semana_sa', 'Dia_semana_vi', 'Distancia_Eucladiana',\n",
       "       'segmentos naturales'],\n",
       "      dtype='object')"
      ]
     },
     "execution_count": 36,
     "metadata": {},
     "output_type": "execute_result"
    }
   ],
   "source": [
    "X_train1.columns"
   ]
  },
  {
   "cell_type": "code",
   "execution_count": 37,
   "metadata": {
    "scrolled": true
   },
   "outputs": [
    {
     "data": {
      "text/plain": [
       "passenger_count           int64\n",
       "pickup_longitude         object\n",
       "pickup_latitude          object\n",
       "dropoff_longitude        object\n",
       "dropoff_latitude         object\n",
       "Dia_semana_do             int64\n",
       "Dia_semana_ju             int64\n",
       "Dia_semana_lu             int64\n",
       "Dia_semana_ma             int64\n",
       "Dia_semana_mi             int64\n",
       "Dia_semana_sa             int64\n",
       "Dia_semana_vi             int64\n",
       "Distancia_Eucladiana    float64\n",
       "segmentos naturales       int64\n",
       "dtype: object"
      ]
     },
     "execution_count": 37,
     "metadata": {},
     "output_type": "execute_result"
    }
   ],
   "source": [
    "X_train1.dtypes"
   ]
  },
  {
   "cell_type": "code",
   "execution_count": 38,
   "metadata": {},
   "outputs": [
    {
     "data": {
      "text/html": [
       "<div>\n",
       "<style scoped>\n",
       "    .dataframe tbody tr th:only-of-type {\n",
       "        vertical-align: middle;\n",
       "    }\n",
       "\n",
       "    .dataframe tbody tr th {\n",
       "        vertical-align: top;\n",
       "    }\n",
       "\n",
       "    .dataframe thead th {\n",
       "        text-align: right;\n",
       "    }\n",
       "</style>\n",
       "<table border=\"1\" class=\"dataframe\">\n",
       "  <thead>\n",
       "    <tr style=\"text-align: right;\">\n",
       "      <th></th>\n",
       "      <th>passenger_count</th>\n",
       "      <th>Dia_semana_do</th>\n",
       "      <th>Dia_semana_ju</th>\n",
       "      <th>Dia_semana_lu</th>\n",
       "      <th>Dia_semana_ma</th>\n",
       "      <th>Dia_semana_mi</th>\n",
       "      <th>Dia_semana_sa</th>\n",
       "      <th>Dia_semana_vi</th>\n",
       "      <th>Distancia_Eucladiana</th>\n",
       "      <th>segmentos naturales</th>\n",
       "    </tr>\n",
       "  </thead>\n",
       "  <tbody>\n",
       "    <tr>\n",
       "      <th>0</th>\n",
       "      <td>1</td>\n",
       "      <td>0</td>\n",
       "      <td>0</td>\n",
       "      <td>0</td>\n",
       "      <td>0</td>\n",
       "      <td>0</td>\n",
       "      <td>1</td>\n",
       "      <td>0</td>\n",
       "      <td>0.004472</td>\n",
       "      <td>2</td>\n",
       "    </tr>\n",
       "    <tr>\n",
       "      <th>1</th>\n",
       "      <td>2</td>\n",
       "      <td>0</td>\n",
       "      <td>1</td>\n",
       "      <td>0</td>\n",
       "      <td>0</td>\n",
       "      <td>0</td>\n",
       "      <td>0</td>\n",
       "      <td>0</td>\n",
       "      <td>0.007425</td>\n",
       "      <td>2</td>\n",
       "    </tr>\n",
       "    <tr>\n",
       "      <th>2</th>\n",
       "      <td>1</td>\n",
       "      <td>0</td>\n",
       "      <td>0</td>\n",
       "      <td>0</td>\n",
       "      <td>1</td>\n",
       "      <td>0</td>\n",
       "      <td>0</td>\n",
       "      <td>0</td>\n",
       "      <td>0.011611</td>\n",
       "      <td>1</td>\n",
       "    </tr>\n",
       "    <tr>\n",
       "      <th>3</th>\n",
       "      <td>1</td>\n",
       "      <td>0</td>\n",
       "      <td>0</td>\n",
       "      <td>0</td>\n",
       "      <td>0</td>\n",
       "      <td>0</td>\n",
       "      <td>0</td>\n",
       "      <td>1</td>\n",
       "      <td>0.112269</td>\n",
       "      <td>1</td>\n",
       "    </tr>\n",
       "    <tr>\n",
       "      <th>4</th>\n",
       "      <td>1</td>\n",
       "      <td>0</td>\n",
       "      <td>0</td>\n",
       "      <td>1</td>\n",
       "      <td>0</td>\n",
       "      <td>0</td>\n",
       "      <td>0</td>\n",
       "      <td>0</td>\n",
       "      <td>0.040506</td>\n",
       "      <td>2</td>\n",
       "    </tr>\n",
       "  </tbody>\n",
       "</table>\n",
       "</div>"
      ],
      "text/plain": [
       "   passenger_count  Dia_semana_do  Dia_semana_ju  Dia_semana_lu  \\\n",
       "0                1              0              0              0   \n",
       "1                2              0              1              0   \n",
       "2                1              0              0              0   \n",
       "3                1              0              0              0   \n",
       "4                1              0              0              1   \n",
       "\n",
       "   Dia_semana_ma  Dia_semana_mi  Dia_semana_sa  Dia_semana_vi  \\\n",
       "0              0              0              1              0   \n",
       "1              0              0              0              0   \n",
       "2              1              0              0              0   \n",
       "3              0              0              0              1   \n",
       "4              0              0              0              0   \n",
       "\n",
       "   Distancia_Eucladiana  segmentos naturales  \n",
       "0              0.004472                    2  \n",
       "1              0.007425                    2  \n",
       "2              0.011611                    1  \n",
       "3              0.112269                    1  \n",
       "4              0.040506                    2  "
      ]
     },
     "execution_count": 38,
     "metadata": {},
     "output_type": "execute_result"
    }
   ],
   "source": [
    "Xtrainprueba=X_train1[['passenger_count','Dia_semana_do', 'Dia_semana_ju','Dia_semana_lu', 'Dia_semana_ma', 'Dia_semana_mi', 'Dia_semana_sa','Dia_semana_vi', 'Distancia_Eucladiana', 'segmentos naturales']]\n",
    "Xtrainprueba[0:5]"
   ]
  },
  {
   "cell_type": "code",
   "execution_count": 39,
   "metadata": {},
   "outputs": [
    {
     "data": {
      "text/plain": [
       "array([[1.      , 0.      , 0.      , ..., 0.      , 0.004472, 2.      ],\n",
       "       [2.      , 0.      , 1.      , ..., 0.      , 0.007425, 2.      ],\n",
       "       [1.      , 0.      , 0.      , ..., 0.      , 0.011611, 1.      ],\n",
       "       ...,\n",
       "       [2.      , 0.      , 0.      , ..., 1.      , 0.003131, 1.      ],\n",
       "       [1.      , 0.      , 0.      , ..., 0.      , 0.012187, 1.      ],\n",
       "       [2.      , 0.      , 0.      , ..., 0.      , 0.040478, 1.      ]])"
      ]
     },
     "execution_count": 39,
     "metadata": {},
     "output_type": "execute_result"
    }
   ],
   "source": [
    "Xtrainprueba=np.asarray(Xtrainprueba)\n",
    "Xtrainprueba"
   ]
  },
  {
   "cell_type": "code",
   "execution_count": 40,
   "metadata": {},
   "outputs": [],
   "source": [
    "y_train1=np.asarray(y_train1)"
   ]
  },
  {
   "cell_type": "code",
   "execution_count": 41,
   "metadata": {},
   "outputs": [
    {
     "name": "stdout",
     "output_type": "stream",
     "text": [
      "                            OLS Regression Results                            \n",
      "==============================================================================\n",
      "Dep. Variable:                      y   R-squared:                       0.470\n",
      "Model:                            OLS   Adj. R-squared:                  0.470\n",
      "Method:                 Least Squares   F-statistic:                 2.583e+04\n",
      "Date:                Sun, 24 Jun 2018   Prob (F-statistic):               0.00\n",
      "Time:                        22:59:21   Log-Likelihood:            -1.9948e+06\n",
      "No. Observations:              261990   AIC:                         3.990e+06\n",
      "Df Residuals:                  261980   BIC:                         3.990e+06\n",
      "Df Model:                           9                                         \n",
      "Covariance Type:            nonrobust                                         \n",
      "==============================================================================\n",
      "                 coef    std err          t      P>|t|      [0.025      0.975]\n",
      "------------------------------------------------------------------------------\n",
      "x1             4.2402      0.752      5.636      0.000       2.766       5.715\n",
      "x2         -9.092e+12   1.53e+13     -0.595      0.552   -3.91e+13    2.09e+13\n",
      "x3         -1.818e+13   3.06e+13     -0.595      0.552   -7.81e+13    4.17e+13\n",
      "x4         -1.818e+13   3.06e+13     -0.595      0.552   -7.81e+13    4.17e+13\n",
      "x5         -9.092e+12   1.53e+13     -0.595      0.552   -3.91e+13    2.09e+13\n",
      "x6         -9.092e+12   1.53e+13     -0.595      0.552   -3.91e+13    2.09e+13\n",
      "x7         -1.818e+13   3.06e+13     -0.595      0.552   -7.81e+13    4.17e+13\n",
      "x8         -9.092e+12   1.53e+13     -0.595      0.552   -3.91e+13    2.09e+13\n",
      "x9            1.1e+04     22.916    479.918      0.000     1.1e+04     1.1e+04\n",
      "x10         9.092e+12   1.53e+13      0.595      0.552   -2.09e+13    3.91e+13\n",
      "==============================================================================\n",
      "Omnibus:                   288693.944   Durbin-Watson:                   1.998\n",
      "Prob(Omnibus):                  0.000   Jarque-Bera (JB):        867277890.102\n",
      "Skew:                           4.462   Prob(JB):                         0.00\n",
      "Kurtosis:                     284.725   Cond. No.                     1.63e+14\n",
      "==============================================================================\n",
      "\n",
      "Warnings:\n",
      "[1] Standard Errors assume that the covariance matrix of the errors is correctly specified.\n",
      "[2] The smallest eigenvalue is 6.05e-23. This might indicate that there are\n",
      "strong multicollinearity problems or that the design matrix is singular.\n"
     ]
    }
   ],
   "source": [
    "model = smf.OLS(y_train1, Xtrainprueba)\n",
    "results = model.fit()\n",
    "print(results.summary())"
   ]
  },
  {
   "cell_type": "code",
   "execution_count": 42,
   "metadata": {},
   "outputs": [
    {
     "data": {
      "text/plain": [
       "array([ 4.24022675e+00, -9.09192451e+12, -1.81838490e+13, -1.81838490e+13,\n",
       "       -9.09192451e+12, -9.09192451e+12, -1.81838490e+13, -9.09192451e+12,\n",
       "        1.09978757e+04,  9.09192451e+12])"
      ]
     },
     "execution_count": 42,
     "metadata": {},
     "output_type": "execute_result"
    }
   ],
   "source": [
    "results.params"
   ]
  },
  {
   "cell_type": "code",
   "execution_count": 43,
   "metadata": {},
   "outputs": [],
   "source": [
    "# Obteniendo fitted values\n",
    "fit=results.fittedvalues;\n",
    "# Obteniendo residuos\n",
    "Residuos=results.resid;"
   ]
  },
  {
   "cell_type": "code",
   "execution_count": 44,
   "metadata": {},
   "outputs": [
    {
     "data": {
      "image/png": "[encoded data removed]",
      "text/plain": [
       "<Figure size 432x288 with 1 Axes>"
      ]
     },
     "metadata": {},
     "output_type": "display_data"
    }
   ],
   "source": [
    "Gráfico = sm.qqplot(Residuos, stats.t, fit=True, line='q')"
   ]
  },
  {
   "cell_type": "code",
   "execution_count": 45,
   "metadata": {},
   "outputs": [],
   "source": [
    "Xtestprueba=X_test1[['passenger_count','Dia_semana_do', 'Dia_semana_ju','Dia_semana_lu', 'Dia_semana_ma', 'Dia_semana_mi', 'Dia_semana_sa','Dia_semana_vi', 'Distancia_Eucladiana', 'segmentos naturales']]"
   ]
  },
  {
   "cell_type": "code",
   "execution_count": 46,
   "metadata": {},
   "outputs": [],
   "source": [
    "y_pred= results.predict(Xtestprueba)"
   ]
  },
  {
   "cell_type": "code",
   "execution_count": 47,
   "metadata": {},
   "outputs": [
    {
     "name": "stdout",
     "output_type": "stream",
     "text": [
      "MAE: 324.1752778836382\n",
      "MSE: 227456.38905614248\n",
      "RMSE: 476.9238818261699\n"
     ]
    }
   ],
   "source": [
    "from sklearn import metrics\n",
    "import numpy as np\n",
    "print('MAE:', metrics.mean_absolute_error(y_test1, y_pred))\n",
    "print('MSE:', metrics.mean_squared_error(y_test1, y_pred))\n",
    "print('RMSE:', np.sqrt(metrics.mean_squared_error(y_test1, y_pred)))"
   ]
  },
  {
   "cell_type": "code",
   "execution_count": 48,
   "metadata": {},
   "outputs": [],
   "source": [
    "comp_ypred=pd.DataFrame(y_pred)\n",
    "comp_ytest=pd.DataFrame(y_test1)\n",
    "comp_ytest=np.asarray(comp_ytest)\n",
    "comp_ytest=pd.DataFrame(comp_ytest)\n",
    "comp_ytest.columns=['ytest']\n",
    "comp_ypred.columns=['ypred']\n"
   ]
  },
  {
   "cell_type": "code",
   "execution_count": 49,
   "metadata": {},
   "outputs": [
    {
     "data": {
      "text/plain": [
       "ytest    int64\n",
       "dtype: object"
      ]
     },
     "execution_count": 49,
     "metadata": {},
     "output_type": "execute_result"
    }
   ],
   "source": [
    "comp_ytest[0:5]\n",
    "comp_ytest.dtypes"
   ]
  },
  {
   "cell_type": "code",
   "execution_count": 50,
   "metadata": {},
   "outputs": [
    {
     "data": {
      "text/plain": [
       "ypred    float64\n",
       "dtype: object"
      ]
     },
     "execution_count": 50,
     "metadata": {},
     "output_type": "execute_result"
    }
   ],
   "source": [
    "comp_ypred[0:5]\n",
    "comp_ypred.dtypes\n",
    "comp_ypred.astype('int64')\n",
    "comp_ypred[0:5]\n",
    "comp_ypred.dtypes"
   ]
  },
  {
   "cell_type": "code",
   "execution_count": 51,
   "metadata": {},
   "outputs": [
    {
     "data": {
      "text/html": [
       "<div>\n",
       "<style scoped>\n",
       "    .dataframe tbody tr th:only-of-type {\n",
       "        vertical-align: middle;\n",
       "    }\n",
       "\n",
       "    .dataframe tbody tr th {\n",
       "        vertical-align: top;\n",
       "    }\n",
       "\n",
       "    .dataframe thead th {\n",
       "        text-align: right;\n",
       "    }\n",
       "</style>\n",
       "<table border=\"1\" class=\"dataframe\">\n",
       "  <thead>\n",
       "    <tr style=\"text-align: right;\">\n",
       "      <th></th>\n",
       "      <th>ytest</th>\n",
       "      <th>ypred</th>\n",
       "      <th>diferencia</th>\n",
       "    </tr>\n",
       "  </thead>\n",
       "  <tbody>\n",
       "    <tr>\n",
       "      <th>0</th>\n",
       "      <td>548</td>\n",
       "      <td>647.792969</td>\n",
       "      <td>-8.897385</td>\n",
       "    </tr>\n",
       "    <tr>\n",
       "      <th>1</th>\n",
       "      <td>431</td>\n",
       "      <td>617.771484</td>\n",
       "      <td>-14.604877</td>\n",
       "    </tr>\n",
       "    <tr>\n",
       "      <th>2</th>\n",
       "      <td>571</td>\n",
       "      <td>503.136719</td>\n",
       "      <td>5.435017</td>\n",
       "    </tr>\n",
       "    <tr>\n",
       "      <th>3</th>\n",
       "      <td>966</td>\n",
       "      <td>749.414062</td>\n",
       "      <td>27.701652</td>\n",
       "    </tr>\n",
       "    <tr>\n",
       "      <th>4</th>\n",
       "      <td>37</td>\n",
       "      <td>591.503906</td>\n",
       "      <td>-25.984780</td>\n",
       "    </tr>\n",
       "  </tbody>\n",
       "</table>\n",
       "</div>"
      ],
      "text/plain": [
       "   ytest       ypred  diferencia\n",
       "0    548  647.792969   -8.897385\n",
       "1    431  617.771484  -14.604877\n",
       "2    571  503.136719    5.435017\n",
       "3    966  749.414062   27.701652\n",
       "4     37  591.503906  -25.984780"
      ]
     },
     "execution_count": 51,
     "metadata": {},
     "output_type": "execute_result"
    }
   ],
   "source": [
    "comparativo=pd.concat([comp_ytest,comp_ypred],axis=1)\n",
    "comparativo\n",
    "comparativo['diferencia']= (((comparativo[\"ytest\"])*(comparativo[\"ytest\"])) - ((comparativo[\"ypred\"])*(comparativo[\"ypred\"])))/13412\n",
    "comparativo[0:5]\n"
   ]
  },
  {
   "cell_type": "code",
   "execution_count": 52,
   "metadata": {},
   "outputs": [
    {
     "name": "stdout",
     "output_type": "stream",
     "text": [
      "Iteration                   Training set observations                   Testing set observations\n",
      "    1     [ 5  6  7  8  9 10 11 12 13 14 15 16 17 18 19 20 21 22 23 24]        [0 1 2 3 4]       \n",
      "    2     [ 0  1  2  3  4 10 11 12 13 14 15 16 17 18 19 20 21 22 23 24]        [5 6 7 8 9]       \n",
      "    3     [ 0  1  2  3  4  5  6  7  8  9 15 16 17 18 19 20 21 22 23 24]     [10 11 12 13 14]     \n",
      "    4     [ 0  1  2  3  4  5  6  7  8  9 10 11 12 13 14 20 21 22 23 24]     [15 16 17 18 19]     \n",
      "    5     [ 0  1  2  3  4  5  6  7  8  9 10 11 12 13 14 15 16 17 18 19]     [20 21 22 23 24]     \n"
     ]
    },
    {
     "name": "stderr",
     "output_type": "stream",
     "text": [
      "C:\\Users\\DELL\\Anaconda3\\lib\\site-packages\\sklearn\\cross_validation.py:41: DeprecationWarning: This module was deprecated in version 0.18 in favor of the model_selection module into which all the refactored classes and functions are moved. Also note that the interface of the new CV iterators are different from that of this module. This module will be removed in 0.20.\n",
      "  \"This module will be removed in 0.20.\", DeprecationWarning)\n"
     ]
    }
   ],
   "source": [
    "# simulate splitting a dataset of 25 observations into 5 folds\n",
    "from sklearn.cross_validation import KFold\n",
    "kf = KFold(25, n_folds=5, shuffle=False)\n",
    "\n",
    "# print the contents of each training and testing set\n",
    "print('{} {:^61} {}'.format('Iteration', 'Training set observations', 'Testing set observations'))\n",
    "for iteration, data in enumerate(kf, start=1):\n",
    "    print('{:^9} {} {:^25}'.format(str(iteration), str(data[0]), str(data[1])))"
   ]
  },
  {
   "cell_type": "code",
   "execution_count": 53,
   "metadata": {},
   "outputs": [
    {
     "data": {
      "text/plain": [
       "passenger_count           int64\n",
       "pickup_longitude         object\n",
       "pickup_latitude          object\n",
       "dropoff_longitude        object\n",
       "dropoff_latitude         object\n",
       "Dia_semana_do             int64\n",
       "Dia_semana_ju             int64\n",
       "Dia_semana_lu             int64\n",
       "Dia_semana_ma             int64\n",
       "Dia_semana_mi             int64\n",
       "Dia_semana_sa             int64\n",
       "Dia_semana_vi             int64\n",
       "Distancia_Eucladiana    float64\n",
       "segmentos naturales       int64\n",
       "dtype: object"
      ]
     },
     "execution_count": 53,
     "metadata": {},
     "output_type": "execute_result"
    }
   ],
   "source": [
    "X.dtypes"
   ]
  },
  {
   "cell_type": "code",
   "execution_count": 54,
   "metadata": {},
   "outputs": [],
   "source": [
    "X_kf = X[['passenger_count','Dia_semana_do', 'Dia_semana_ju','Dia_semana_lu', 'Dia_semana_ma', 'Dia_semana_mi', 'Dia_semana_sa','Dia_semana_vi', 'Distancia_Eucladiana', 'segmentos naturales']]"
   ]
  },
  {
   "cell_type": "code",
   "execution_count": 61,
   "metadata": {},
   "outputs": [
    {
     "data": {
      "text/plain": [
       "passenger_count         349320\n",
       "pickup_longitude        349320\n",
       "pickup_latitude         349320\n",
       "dropoff_longitude       349320\n",
       "dropoff_latitude        349320\n",
       "Dia_semana_do           349320\n",
       "Dia_semana_ju           349320\n",
       "Dia_semana_lu           349320\n",
       "Dia_semana_ma           349320\n",
       "Dia_semana_mi           349320\n",
       "Dia_semana_sa           349320\n",
       "Dia_semana_vi           349320\n",
       "Distancia_Eucladiana    349320\n",
       "segmentos naturales     349320\n",
       "dtype: int64"
      ]
     },
     "execution_count": 61,
     "metadata": {},
     "output_type": "execute_result"
    }
   ],
   "source": []
  },
  {
   "cell_type": "code",
   "execution_count": 55,
   "metadata": {},
   "outputs": [
    {
     "name": "stdout",
     "output_type": "stream",
     "text": [
      "MAE: 287.8006280505697\n",
      "MSE: 170861.50312479486\n",
      "RMSE: 413.3539683186734\n",
      "MAE: 287.8150274551271\n",
      "MSE: 248247.2852734577\n",
      "RMSE: 498.24420244841554\n",
      "MAE: 287.5410717468716\n",
      "MSE: 196424.21799376293\n",
      "RMSE: 443.19771884990894\n",
      "MAE: 287.38789693189625\n",
      "MSE: 172048.4856522024\n",
      "RMSE: 414.78727759202354\n",
      "MAE: 290.4648702523832\n",
      "MSE: 198946.7555435178\n",
      "RMSE: 446.03447797621857\n",
      "MAE: 286.3764162560475\n",
      "MSE: 197773.82820749277\n",
      "RMSE: 444.7176949565789\n",
      "MAE: 287.2834263265058\n",
      "MSE: 196851.79449012884\n",
      "RMSE: 443.6798333146649\n",
      "MAE: 290.0072991141718\n",
      "MSE: 216896.9973477257\n",
      "RMSE: 465.7220172460453\n",
      "MAE: 287.2028106476288\n",
      "MSE: 174910.11862854802\n",
      "RMSE: 418.222570682822\n",
      "MAE: 290.461696354368\n",
      "MSE: 204835.42068149967\n",
      "RMSE: 452.5874729613046\n"
     ]
    }
   ],
   "source": [
    "# Create k-folds\n",
    "kf = KFold(X.shape[0], n_folds=10, random_state=0)\n",
    "\n",
    "result_list = []\n",
    "\n",
    "for train_index, test_index in kf:\n",
    "    X_train, X_test = X_kf.iloc[train_index], X_kf.iloc[test_index]\n",
    "    y_train, y_test = y.iloc[train_index], y.iloc[test_index]\n",
    "\n",
    "    # train a logistic regression model\n",
    "    model = smf.OLS(y_train, X_train)\n",
    "    results = model.fit()\n",
    "    \n",
    "    #est = sm.OLS(y, X.astype(float)).fit()\n",
    "    \n",
    "    # make predictions for testing set\n",
    "    y_pred= results.predict(X_test)\n",
    "    \n",
    "\n",
    "    # calculate testing accuracy\n",
    "    print('MAE:', metrics.mean_absolute_error(y_test, y_pred))\n",
    "    print('MSE:', metrics.mean_squared_error(y_test, y_pred))\n",
    "    print('RMSE:', np.sqrt(metrics.mean_squared_error(y_test, y_pred)))\n",
    "    \n",
    "    mae = metrics.mean_absolute_error(y_test, y_pred)\n",
    "    mse = metrics.mean_squared_error(y_test, y_pred)\n",
    "    rmse = np.sqrt(metrics.mean_squared_error(y_test, y_pred))\n",
    "    \n",
    "    errors = [mae,mse,rmse]\n",
    "    result_list.append(errors)\n",
    "    "
   ]
  },
  {
   "cell_type": "code",
   "execution_count": 56,
   "metadata": {},
   "outputs": [
    {
     "data": {
      "text/plain": [
       "[[287.8006280505697, 170861.50312479486, 413.3539683186734],\n",
       " [287.8150274551271, 248247.2852734577, 498.24420244841554],\n",
       " [287.5410717468716, 196424.21799376293, 443.19771884990894],\n",
       " [287.38789693189625, 172048.4856522024, 414.78727759202354],\n",
       " [290.4648702523832, 198946.7555435178, 446.03447797621857],\n",
       " [286.3764162560475, 197773.82820749277, 444.7176949565789],\n",
       " [287.2834263265058, 196851.79449012884, 443.6798333146649],\n",
       " [290.0072991141718, 216896.9973477257, 465.7220172460453],\n",
       " [287.2028106476288, 174910.11862854802, 418.222570682822],\n",
       " [290.461696354368, 204835.42068149967, 452.5874729613046]]"
      ]
     },
     "execution_count": 56,
     "metadata": {},
     "output_type": "execute_result"
    }
   ],
   "source": [
    "result_list"
   ]
  },
  {
   "cell_type": "code",
   "execution_count": 61,
   "metadata": {},
   "outputs": [
    {
     "data": {
      "text/plain": [
       "matrix([[   287.80062805, 170861.50312479,    413.35396832],\n",
       "        [   287.81502746, 248247.28527346,    498.24420245],\n",
       "        [   287.54107175, 196424.21799376,    443.19771885],\n",
       "        [   287.38789693, 172048.4856522 ,    414.78727759],\n",
       "        [   290.46487025, 198946.75554352,    446.03447798],\n",
       "        [   286.37641626, 197773.82820749,    444.71769496],\n",
       "        [   287.28342633, 196851.79449013,    443.67983331],\n",
       "        [   290.00729911, 216896.99734773,    465.72201725],\n",
       "        [   287.20281065, 174910.11862855,    418.22257068],\n",
       "        [   290.46169635, 204835.4206815 ,    452.58747296]])"
      ]
     },
     "execution_count": 61,
     "metadata": {},
     "output_type": "execute_result"
    }
   ],
   "source": [
    "b=np.asmatrix(result_list)\n",
    "b"
   ]
  },
  {
   "cell_type": "code",
   "execution_count": 70,
   "metadata": {},
   "outputs": [
    {
     "data": {
      "text/plain": [
       "matrix([[413.35396832],\n",
       "        [498.24420245],\n",
       "        [443.19771885],\n",
       "        [414.78727759],\n",
       "        [446.03447798],\n",
       "        [444.71769496],\n",
       "        [443.67983331],\n",
       "        [465.72201725],\n",
       "        [418.22257068],\n",
       "        [452.58747296]])"
      ]
     },
     "execution_count": 70,
     "metadata": {},
     "output_type": "execute_result"
    }
   ],
   "source": [
    "RMSE=b[:,2]\n",
    "RMSE\n"
   ]
  },
  {
   "cell_type": "code",
   "execution_count": 68,
   "metadata": {},
   "outputs": [
    {
     "data": {
      "text/plain": [
       "413.3539683186734"
      ]
     },
     "execution_count": 68,
     "metadata": {},
     "output_type": "execute_result"
    }
   ],
   "source": [
    "RMSE.min()"
   ]
  },
  {
   "cell_type": "code",
   "execution_count": 69,
   "metadata": {},
   "outputs": [
    {
     "data": {
      "text/plain": [
       "498.24420244841554"
      ]
     },
     "execution_count": 69,
     "metadata": {},
     "output_type": "execute_result"
    }
   ],
   "source": [
    "RMSE.max()"
   ]
  },
  {
   "cell_type": "markdown",
   "metadata": {},
   "source": [
    "##  Learning Curve"
   ]
  },
  {
   "cell_type": "code",
   "execution_count": 78,
   "metadata": {},
   "outputs": [],
   "source": [
    "train_sizes = [1, 100, 500, 2000, 5000, 7654]"
   ]
  },
  {
   "cell_type": "code",
   "execution_count": 84,
   "metadata": {},
   "outputs": [],
   "source": [
    "from sklearn.linear_model import LinearRegression\n",
    "from sklearn.model_selection import learning_curve\n",
    "\n",
    "features = ['passenger_count','Dia_semana_do', 'Dia_semana_ju','Dia_semana_lu', 'Dia_semana_ma', 'Dia_semana_mi', 'Dia_semana_sa','Dia_semana_vi', 'Distancia_Eucladiana', 'segmentos naturales']\n",
    "target = 'trip_duration'\n",
    "\n",
    "train_sizes, train_scores, validation_scores = learning_curve(\n",
    "                                                   estimator = LinearRegression(), X = data_temp[features],\n",
    "                                                   y = data_temp[target], train_sizes = train_sizes, cv = 10,\n",
    "                                                   scoring = 'neg_mean_squared_error')"
   ]
  },
  {
   "cell_type": "code",
   "execution_count": 85,
   "metadata": {},
   "outputs": [
    {
     "name": "stdout",
     "output_type": "stream",
     "text": [
      "Training scores:\n",
      "\n",
      " [[     -0.              -0.              -0.              -0.\n",
      "       -0.              -0.              -0.              -0.\n",
      "       -0.              -0.        ]\n",
      " [-148035.65959645 -190634.34434415 -190634.34434415 -190634.34434415\n",
      "  -190634.34434415 -190634.34434415 -190634.34434415 -190634.34434415\n",
      "  -190634.34434415 -190634.34434415]\n",
      " [-212690.48470528 -203301.25431181 -203301.25431181 -203301.25431181\n",
      "  -203301.25431181 -203301.25431181 -203301.25431181 -203301.25431181\n",
      "  -203301.25431181 -203301.25431181]\n",
      " [-189109.87281608 -182195.72146904 -182195.72146904 -182195.72146904\n",
      "  -182195.72146904 -182195.72146904 -182195.72146904 -182195.72146904\n",
      "  -182195.72146904 -182195.72146904]\n",
      " [-174140.1986     -176850.9928     -176850.9928     -176850.9928\n",
      "  -176850.9928     -176850.9928     -176850.9928     -176850.9928\n",
      "  -176850.9928     -176850.9928    ]\n",
      " [-165575.33328978 -185582.29448654 -185582.29448654 -185582.29448654\n",
      "  -185582.29448654 -185582.29448654 -185582.29448654 -185582.29448654\n",
      "  -185582.29448654 -185582.29448654]]\n",
      "\n",
      " ----------------------------------------------------------------------\n",
      "\n",
      "Validation scores:\n",
      "\n",
      " [[-464263.0353544  -539151.11576778 -488681.84839116 -466603.93015001\n",
      "  -485318.9726898  -491404.46504638 -493599.50429406 -506676.91978701\n",
      "  -462144.81137639 -499817.62724722]\n",
      " [-183775.06412828 -288479.86714285 -235101.02095912 -211459.34111186\n",
      "  -238174.00496258 -238005.00739808 -235837.12988927 -257416.21537981\n",
      "  -213297.14922193 -244541.96780971]\n",
      " [-176123.86086125 -249544.18959444 -198026.93521293 -173650.25461271\n",
      "  -200434.5073428  -199188.84599176 -198328.00362158 -218636.98518812\n",
      "  -176357.07477056 -206295.22321167]\n",
      " [-172583.5759075  -249118.06690538 -197166.27015227 -172664.7803206\n",
      "  -199527.69901566 -198351.0668913  -197332.52580841 -217739.09859967\n",
      "  -175277.64570218 -205521.6848117 ]\n",
      " [-172155.87613077 -248767.25397916 -197034.41211497 -172814.18092294\n",
      "  -199413.34323829 -198323.81504065 -197304.39219054 -217563.35686477\n",
      "  -175513.1968682  -205404.3856922 ]\n",
      " [-171570.4234799  -248559.81438223 -196673.75913203 -172203.20236459\n",
      "  -199048.62246651 -197957.13932784 -196981.81504065 -217110.00346387\n",
      "  -174936.21006527 -205024.11095843]]\n"
     ]
    }
   ],
   "source": [
    "print('Training scores:\\n\\n', train_scores)\n",
    "print('\\n', '-' * 70) # separator to make the output easy to read\n",
    "print('\\nValidation scores:\\n\\n', validation_scores)"
   ]
  },
  {
   "cell_type": "code",
   "execution_count": 81,
   "metadata": {},
   "outputs": [
    {
     "name": "stdout",
     "output_type": "stream",
     "text": [
      "Mean training scores\n",
      "\n",
      " 1           -0.000000\n",
      "100     182330.908855\n",
      "500     193059.622880\n",
      "2000    179442.496475\n",
      "5000    178775.573640\n",
      "7654    184344.106234\n",
      "dtype: float64\n",
      "\n",
      " --------------------\n",
      "\n",
      "Mean validation scores\n",
      "\n",
      " 1       536891.978770\n",
      "100     234347.608247\n",
      "500     199881.777626\n",
      "2000    198739.583969\n",
      "5000    198311.354912\n",
      "7654    197936.971364\n",
      "dtype: float64\n"
     ]
    }
   ],
   "source": [
    "train_scores_mean = -train_scores.mean(axis = 1)\n",
    "validation_scores_mean = -validation_scores.mean(axis = 1)\n",
    "\n",
    "print('Mean training scores\\n\\n', pd.Series(train_scores_mean, index = train_sizes))\n",
    "print('\\n', '-' * 20) # separator\n",
    "print('\\nMean validation scores\\n\\n',pd.Series(validation_scores_mean, index = train_sizes))"
   ]
  },
  {
   "cell_type": "code",
   "execution_count": 91,
   "metadata": {},
   "outputs": [
    {
     "data": {
      "text/plain": [
       "(0, 500000)"
      ]
     },
     "execution_count": 91,
     "metadata": {},
     "output_type": "execute_result"
    },
    {
     "data": {
      "image/png": "[encoded data removed]",
      "text/plain": [
       "<Figure size 576x396 with 1 Axes>"
      ]
     },
     "metadata": {},
     "output_type": "display_data"
    }
   ],
   "source": [
    "import matplotlib.pyplot as plt\n",
    "%matplotlib inline\n",
    "\n",
    "plt.style.use('seaborn')\n",
    "\n",
    "plt.plot(train_sizes, train_scores_mean, label = 'Training error')\n",
    "plt.plot(train_sizes, validation_scores_mean, label = 'Validation error')\n",
    "\n",
    "plt.ylabel('MSE', fontsize = 14)\n",
    "plt.xlabel('Training set size', fontsize = 14)\n",
    "plt.title('Learning curves for a linear regression model', fontsize = 18, y = 1.03)\n",
    "plt.legend()\n",
    "plt.ylim(0,500000)"
   ]
  },
  {
   "cell_type": "code",
   "execution_count": null,
   "metadata": {},
   "outputs": [],
   "source": []
  }
 ],
 "metadata": {
  "kernelspec": {
   "display_name": "Python 3",
   "language": "python",
   "name": "python3"
  },
  "language_info": {
   "codemirror_mode": {
    "name": "ipython",
    "version": 3
   },
   "file_extension": ".py",
   "mimetype": "text/x-python",
   "name": "python",
   "nbconvert_exporter": "python",
   "pygments_lexer": "ipython3",
   "version": "3.6.5"
  }
 },
 "nbformat": 4,
 "nbformat_minor": 2
}
