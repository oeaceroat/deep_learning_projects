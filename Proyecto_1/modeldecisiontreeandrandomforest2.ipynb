{
 "cells": [
  {
   "cell_type": "markdown",
   "metadata": {},
   "source": [
    "A continuacion se prueban dos modelos; Decision tree y Random Forest"
   ]
  },
  {
   "cell_type": "code",
   "execution_count": 81,
   "metadata": {
    "scrolled": true
   },
   "outputs": [],
   "source": [
    "import pandas as pd\n",
    "import numpy as np\n",
    "%matplotlib inline\n",
    "import matplotlib.pyplot as plt\n",
    "\n",
    "# read the data and set the datetime as the index\n",
    "import zipfile"
   ]
  },
  {
   "cell_type": "code",
   "execution_count": 82,
   "metadata": {
    "scrolled": true
   },
   "outputs": [
    {
     "data": {
      "text/html": [
       "<div>\n",
       "<style scoped>\n",
       "    .dataframe tbody tr th:only-of-type {\n",
       "        vertical-align: middle;\n",
       "    }\n",
       "\n",
       "    .dataframe tbody tr th {\n",
       "        vertical-align: top;\n",
       "    }\n",
       "\n",
       "    .dataframe thead th {\n",
       "        text-align: right;\n",
       "    }\n",
       "</style>\n",
       "<table border=\"1\" class=\"dataframe\">\n",
       "  <thead>\n",
       "    <tr style=\"text-align: right;\">\n",
       "      <th></th>\n",
       "      <th>passenger_count</th>\n",
       "      <th>pickup_longitude</th>\n",
       "      <th>pickup_latitude</th>\n",
       "      <th>dropoff_longitude</th>\n",
       "      <th>dropoff_latitude</th>\n",
       "      <th>seconds_pickup</th>\n",
       "      <th>distance</th>\n",
       "      <th>pickup_to_center</th>\n",
       "      <th>dropof_to_center</th>\n",
       "      <th>pm</th>\n",
       "      <th>...</th>\n",
       "      <th>Thursday</th>\n",
       "      <th>Friday</th>\n",
       "      <th>Saturday</th>\n",
       "      <th>Sunday</th>\n",
       "      <th>seconds_pickup_cluster_0</th>\n",
       "      <th>seconds_pickup_cluster_1</th>\n",
       "      <th>seconds_pickup_cluster_2</th>\n",
       "      <th>distance_cluster_0</th>\n",
       "      <th>distance_cluster_1</th>\n",
       "      <th>distance_cluster_2</th>\n",
       "    </tr>\n",
       "  </thead>\n",
       "  <tbody>\n",
       "    <tr>\n",
       "      <th>0</th>\n",
       "      <td>-0.501792</td>\n",
       "      <td>2.424282</td>\n",
       "      <td>1.879103</td>\n",
       "      <td>1.561983</td>\n",
       "      <td>1.692308</td>\n",
       "      <td>0.735526</td>\n",
       "      <td>-0.852640</td>\n",
       "      <td>0.640795</td>\n",
       "      <td>-0.175550</td>\n",
       "      <td>1</td>\n",
       "      <td>...</td>\n",
       "      <td>0</td>\n",
       "      <td>0</td>\n",
       "      <td>0</td>\n",
       "      <td>1</td>\n",
       "      <td>0</td>\n",
       "      <td>1</td>\n",
       "      <td>0</td>\n",
       "      <td>1</td>\n",
       "      <td>0</td>\n",
       "      <td>0</td>\n",
       "    </tr>\n",
       "    <tr>\n",
       "      <th>1</th>\n",
       "      <td>-0.501792</td>\n",
       "      <td>-0.367534</td>\n",
       "      <td>-0.403827</td>\n",
       "      <td>-0.691175</td>\n",
       "      <td>-0.161576</td>\n",
       "      <td>0.852057</td>\n",
       "      <td>-0.907078</td>\n",
       "      <td>0.030166</td>\n",
       "      <td>-0.522745</td>\n",
       "      <td>1</td>\n",
       "      <td>...</td>\n",
       "      <td>0</td>\n",
       "      <td>0</td>\n",
       "      <td>0</td>\n",
       "      <td>0</td>\n",
       "      <td>0</td>\n",
       "      <td>1</td>\n",
       "      <td>0</td>\n",
       "      <td>1</td>\n",
       "      <td>0</td>\n",
       "      <td>0</td>\n",
       "    </tr>\n",
       "    <tr>\n",
       "      <th>2</th>\n",
       "      <td>-0.501792</td>\n",
       "      <td>-0.845276</td>\n",
       "      <td>-1.293918</td>\n",
       "      <td>0.002536</td>\n",
       "      <td>-1.442017</td>\n",
       "      <td>0.701800</td>\n",
       "      <td>-0.350078</td>\n",
       "      <td>0.644695</td>\n",
       "      <td>1.523412</td>\n",
       "      <td>1</td>\n",
       "      <td>...</td>\n",
       "      <td>0</td>\n",
       "      <td>0</td>\n",
       "      <td>1</td>\n",
       "      <td>0</td>\n",
       "      <td>0</td>\n",
       "      <td>1</td>\n",
       "      <td>0</td>\n",
       "      <td>1</td>\n",
       "      <td>0</td>\n",
       "      <td>0</td>\n",
       "    </tr>\n",
       "    <tr>\n",
       "      <th>3</th>\n",
       "      <td>0.262152</td>\n",
       "      <td>-0.597510</td>\n",
       "      <td>0.584923</td>\n",
       "      <td>0.112108</td>\n",
       "      <td>-0.310764</td>\n",
       "      <td>0.679228</td>\n",
       "      <td>0.079165</td>\n",
       "      <td>-1.403456</td>\n",
       "      <td>0.374440</td>\n",
       "      <td>1</td>\n",
       "      <td>...</td>\n",
       "      <td>1</td>\n",
       "      <td>0</td>\n",
       "      <td>0</td>\n",
       "      <td>0</td>\n",
       "      <td>0</td>\n",
       "      <td>1</td>\n",
       "      <td>0</td>\n",
       "      <td>0</td>\n",
       "      <td>1</td>\n",
       "      <td>0</td>\n",
       "    </tr>\n",
       "    <tr>\n",
       "      <th>4</th>\n",
       "      <td>-0.501792</td>\n",
       "      <td>-1.745217</td>\n",
       "      <td>-2.155488</td>\n",
       "      <td>-0.226333</td>\n",
       "      <td>0.326577</td>\n",
       "      <td>0.131382</td>\n",
       "      <td>2.149651</td>\n",
       "      <td>0.865524</td>\n",
       "      <td>-0.603167</td>\n",
       "      <td>1</td>\n",
       "      <td>...</td>\n",
       "      <td>0</td>\n",
       "      <td>0</td>\n",
       "      <td>0</td>\n",
       "      <td>0</td>\n",
       "      <td>0</td>\n",
       "      <td>0</td>\n",
       "      <td>1</td>\n",
       "      <td>0</td>\n",
       "      <td>0</td>\n",
       "      <td>1</td>\n",
       "    </tr>\n",
       "  </tbody>\n",
       "</table>\n",
       "<p>5 rows × 25 columns</p>\n",
       "</div>"
      ],
      "text/plain": [
       "   passenger_count  pickup_longitude  pickup_latitude  dropoff_longitude  \\\n",
       "0        -0.501792          2.424282         1.879103           1.561983   \n",
       "1        -0.501792         -0.367534        -0.403827          -0.691175   \n",
       "2        -0.501792         -0.845276        -1.293918           0.002536   \n",
       "3         0.262152         -0.597510         0.584923           0.112108   \n",
       "4        -0.501792         -1.745217        -2.155488          -0.226333   \n",
       "\n",
       "   dropoff_latitude  seconds_pickup  distance  pickup_to_center  \\\n",
       "0          1.692308        0.735526 -0.852640          0.640795   \n",
       "1         -0.161576        0.852057 -0.907078          0.030166   \n",
       "2         -1.442017        0.701800 -0.350078          0.644695   \n",
       "3         -0.310764        0.679228  0.079165         -1.403456   \n",
       "4          0.326577        0.131382  2.149651          0.865524   \n",
       "\n",
       "   dropof_to_center  pm         ...          Thursday  Friday  Saturday  \\\n",
       "0         -0.175550   1         ...                 0       0         0   \n",
       "1         -0.522745   1         ...                 0       0         0   \n",
       "2          1.523412   1         ...                 0       0         1   \n",
       "3          0.374440   1         ...                 1       0         0   \n",
       "4         -0.603167   1         ...                 0       0         0   \n",
       "\n",
       "   Sunday  seconds_pickup_cluster_0  seconds_pickup_cluster_1  \\\n",
       "0       1                         0                         1   \n",
       "1       0                         0                         1   \n",
       "2       0                         0                         1   \n",
       "3       0                         0                         1   \n",
       "4       0                         0                         0   \n",
       "\n",
       "   seconds_pickup_cluster_2  distance_cluster_0  distance_cluster_1  \\\n",
       "0                         0                   1                   0   \n",
       "1                         0                   1                   0   \n",
       "2                         0                   1                   0   \n",
       "3                         0                   0                   1   \n",
       "4                         1                   0                   0   \n",
       "\n",
       "   distance_cluster_2  \n",
       "0                   0  \n",
       "1                   0  \n",
       "2                   0  \n",
       "3                   0  \n",
       "4                   1  \n",
       "\n",
       "[5 rows x 25 columns]"
      ]
     },
     "execution_count": 82,
     "metadata": {},
     "output_type": "execute_result"
    }
   ],
   "source": [
    "import pandas as pd\n",
    "X_train1 = pd.read_csv('data/X_train.csv', sep=',')\n",
    "X_train1 = X_train1[X_train1.columns[1:27]] \n",
    "X_train1.head()"
   ]
  },
  {
   "cell_type": "code",
   "execution_count": 83,
   "metadata": {
    "scrolled": false
   },
   "outputs": [
    {
     "data": {
      "text/plain": [
       "passenger_count             float64\n",
       "pickup_longitude            float64\n",
       "pickup_latitude             float64\n",
       "dropoff_longitude           float64\n",
       "dropoff_latitude            float64\n",
       "seconds_pickup              float64\n",
       "distance                    float64\n",
       "pickup_to_center            float64\n",
       "dropof_to_center            float64\n",
       "pm                            int64\n",
       "id_vendor_1                   int64\n",
       "id_vendor_2                   int64\n",
       "Monday                        int64\n",
       "Tuesday                       int64\n",
       "Wednesday                     int64\n",
       "Thursday                      int64\n",
       "Friday                        int64\n",
       "Saturday                      int64\n",
       "Sunday                        int64\n",
       "seconds_pickup_cluster_0      int64\n",
       "seconds_pickup_cluster_1      int64\n",
       "seconds_pickup_cluster_2      int64\n",
       "distance_cluster_0            int64\n",
       "distance_cluster_1            int64\n",
       "distance_cluster_2            int64\n",
       "dtype: object"
      ]
     },
     "execution_count": 83,
     "metadata": {},
     "output_type": "execute_result"
    }
   ],
   "source": [
    "X_train1.dtypes"
   ]
  },
  {
   "cell_type": "code",
   "execution_count": 84,
   "metadata": {
    "scrolled": true
   },
   "outputs": [
    {
     "data": {
      "text/html": [
       "<div>\n",
       "<style scoped>\n",
       "    .dataframe tbody tr th:only-of-type {\n",
       "        vertical-align: middle;\n",
       "    }\n",
       "\n",
       "    .dataframe tbody tr th {\n",
       "        vertical-align: top;\n",
       "    }\n",
       "\n",
       "    .dataframe thead th {\n",
       "        text-align: right;\n",
       "    }\n",
       "</style>\n",
       "<table border=\"1\" class=\"dataframe\">\n",
       "  <thead>\n",
       "    <tr style=\"text-align: right;\">\n",
       "      <th></th>\n",
       "      <th>y</th>\n",
       "    </tr>\n",
       "  </thead>\n",
       "  <tbody>\n",
       "    <tr>\n",
       "      <th>0</th>\n",
       "      <td>279</td>\n",
       "    </tr>\n",
       "    <tr>\n",
       "      <th>1</th>\n",
       "      <td>241</td>\n",
       "    </tr>\n",
       "    <tr>\n",
       "      <th>2</th>\n",
       "      <td>1159</td>\n",
       "    </tr>\n",
       "    <tr>\n",
       "      <th>3</th>\n",
       "      <td>1468</td>\n",
       "    </tr>\n",
       "    <tr>\n",
       "      <th>4</th>\n",
       "      <td>2003</td>\n",
       "    </tr>\n",
       "  </tbody>\n",
       "</table>\n",
       "</div>"
      ],
      "text/plain": [
       "      y\n",
       "0   279\n",
       "1   241\n",
       "2  1159\n",
       "3  1468\n",
       "4  2003"
      ]
     },
     "execution_count": 84,
     "metadata": {},
     "output_type": "execute_result"
    }
   ],
   "source": [
    "#trip_duration\n",
    "\n",
    "import pandas as pd\n",
    "y_train1 = pd.read_csv('data/y_train.csv', sep=',')\n",
    "y_train1 = y_train1[y_train1.columns[1:27]] \n",
    "y_train1.head()"
   ]
  },
  {
   "cell_type": "code",
   "execution_count": 85,
   "metadata": {},
   "outputs": [
    {
     "data": {
      "text/html": [
       "<div>\n",
       "<style scoped>\n",
       "    .dataframe tbody tr th:only-of-type {\n",
       "        vertical-align: middle;\n",
       "    }\n",
       "\n",
       "    .dataframe tbody tr th {\n",
       "        vertical-align: top;\n",
       "    }\n",
       "\n",
       "    .dataframe thead th {\n",
       "        text-align: right;\n",
       "    }\n",
       "</style>\n",
       "<table border=\"1\" class=\"dataframe\">\n",
       "  <thead>\n",
       "    <tr style=\"text-align: right;\">\n",
       "      <th></th>\n",
       "      <th>y</th>\n",
       "    </tr>\n",
       "  </thead>\n",
       "  <tbody>\n",
       "    <tr>\n",
       "      <th>0</th>\n",
       "      <td>308</td>\n",
       "    </tr>\n",
       "    <tr>\n",
       "      <th>1</th>\n",
       "      <td>871</td>\n",
       "    </tr>\n",
       "    <tr>\n",
       "      <th>2</th>\n",
       "      <td>284</td>\n",
       "    </tr>\n",
       "    <tr>\n",
       "      <th>3</th>\n",
       "      <td>642</td>\n",
       "    </tr>\n",
       "    <tr>\n",
       "      <th>4</th>\n",
       "      <td>307</td>\n",
       "    </tr>\n",
       "  </tbody>\n",
       "</table>\n",
       "</div>"
      ],
      "text/plain": [
       "     y\n",
       "0  308\n",
       "1  871\n",
       "2  284\n",
       "3  642\n",
       "4  307"
      ]
     },
     "execution_count": 85,
     "metadata": {},
     "output_type": "execute_result"
    }
   ],
   "source": [
    "#trip_duration\n",
    "\n",
    "import pandas as pd\n",
    "y_test1 = pd.read_csv('data/y_test.csv', sep=',')\n",
    "y_test1 = y_test1[y_test1.columns[1:27]] \n",
    "y_test1.head()"
   ]
  },
  {
   "cell_type": "code",
   "execution_count": 86,
   "metadata": {},
   "outputs": [
    {
     "data": {
      "text/html": [
       "<div>\n",
       "<style scoped>\n",
       "    .dataframe tbody tr th:only-of-type {\n",
       "        vertical-align: middle;\n",
       "    }\n",
       "\n",
       "    .dataframe tbody tr th {\n",
       "        vertical-align: top;\n",
       "    }\n",
       "\n",
       "    .dataframe thead th {\n",
       "        text-align: right;\n",
       "    }\n",
       "</style>\n",
       "<table border=\"1\" class=\"dataframe\">\n",
       "  <thead>\n",
       "    <tr style=\"text-align: right;\">\n",
       "      <th></th>\n",
       "      <th>passenger_count</th>\n",
       "      <th>pickup_longitude</th>\n",
       "      <th>pickup_latitude</th>\n",
       "      <th>dropoff_longitude</th>\n",
       "      <th>dropoff_latitude</th>\n",
       "      <th>seconds_pickup</th>\n",
       "      <th>distance</th>\n",
       "      <th>pickup_to_center</th>\n",
       "      <th>dropof_to_center</th>\n",
       "      <th>pm</th>\n",
       "      <th>...</th>\n",
       "      <th>Thursday</th>\n",
       "      <th>Friday</th>\n",
       "      <th>Saturday</th>\n",
       "      <th>Sunday</th>\n",
       "      <th>seconds_pickup_cluster_0</th>\n",
       "      <th>seconds_pickup_cluster_1</th>\n",
       "      <th>seconds_pickup_cluster_2</th>\n",
       "      <th>distance_cluster_0</th>\n",
       "      <th>distance_cluster_1</th>\n",
       "      <th>distance_cluster_2</th>\n",
       "    </tr>\n",
       "  </thead>\n",
       "  <tbody>\n",
       "    <tr>\n",
       "      <th>0</th>\n",
       "      <td>3.317928</td>\n",
       "      <td>0.906009</td>\n",
       "      <td>0.624221</td>\n",
       "      <td>0.874629</td>\n",
       "      <td>0.707912</td>\n",
       "      <td>-0.584796</td>\n",
       "      <td>-0.884955</td>\n",
       "      <td>0.228067</td>\n",
       "      <td>0.058137</td>\n",
       "      <td>0</td>\n",
       "      <td>...</td>\n",
       "      <td>0</td>\n",
       "      <td>0</td>\n",
       "      <td>0</td>\n",
       "      <td>0</td>\n",
       "      <td>0</td>\n",
       "      <td>0</td>\n",
       "      <td>1</td>\n",
       "      <td>1</td>\n",
       "      <td>0</td>\n",
       "      <td>0</td>\n",
       "    </tr>\n",
       "    <tr>\n",
       "      <th>1</th>\n",
       "      <td>-0.501792</td>\n",
       "      <td>-0.184855</td>\n",
       "      <td>0.381801</td>\n",
       "      <td>-0.656770</td>\n",
       "      <td>-0.124004</td>\n",
       "      <td>1.393202</td>\n",
       "      <td>-0.549524</td>\n",
       "      <td>-0.710255</td>\n",
       "      <td>-0.531354</td>\n",
       "      <td>1</td>\n",
       "      <td>...</td>\n",
       "      <td>0</td>\n",
       "      <td>0</td>\n",
       "      <td>1</td>\n",
       "      <td>0</td>\n",
       "      <td>0</td>\n",
       "      <td>1</td>\n",
       "      <td>0</td>\n",
       "      <td>1</td>\n",
       "      <td>0</td>\n",
       "      <td>0</td>\n",
       "    </tr>\n",
       "    <tr>\n",
       "      <th>2</th>\n",
       "      <td>-0.501792</td>\n",
       "      <td>1.058748</td>\n",
       "      <td>0.096932</td>\n",
       "      <td>0.194007</td>\n",
       "      <td>-0.215053</td>\n",
       "      <td>1.417978</td>\n",
       "      <td>-0.611338</td>\n",
       "      <td>0.998530</td>\n",
       "      <td>0.348872</td>\n",
       "      <td>1</td>\n",
       "      <td>...</td>\n",
       "      <td>0</td>\n",
       "      <td>0</td>\n",
       "      <td>0</td>\n",
       "      <td>0</td>\n",
       "      <td>0</td>\n",
       "      <td>1</td>\n",
       "      <td>0</td>\n",
       "      <td>1</td>\n",
       "      <td>0</td>\n",
       "      <td>0</td>\n",
       "    </tr>\n",
       "    <tr>\n",
       "      <th>3</th>\n",
       "      <td>-0.501792</td>\n",
       "      <td>-0.564532</td>\n",
       "      <td>0.136396</td>\n",
       "      <td>0.460273</td>\n",
       "      <td>-0.038303</td>\n",
       "      <td>-0.948225</td>\n",
       "      <td>-0.322410</td>\n",
       "      <td>-0.838747</td>\n",
       "      <td>0.411745</td>\n",
       "      <td>0</td>\n",
       "      <td>...</td>\n",
       "      <td>0</td>\n",
       "      <td>0</td>\n",
       "      <td>0</td>\n",
       "      <td>0</td>\n",
       "      <td>0</td>\n",
       "      <td>0</td>\n",
       "      <td>1</td>\n",
       "      <td>1</td>\n",
       "      <td>0</td>\n",
       "      <td>0</td>\n",
       "    </tr>\n",
       "    <tr>\n",
       "      <th>4</th>\n",
       "      <td>-0.501792</td>\n",
       "      <td>0.599231</td>\n",
       "      <td>1.910442</td>\n",
       "      <td>0.038437</td>\n",
       "      <td>1.142176</td>\n",
       "      <td>0.650647</td>\n",
       "      <td>-0.559203</td>\n",
       "      <td>-1.502657</td>\n",
       "      <td>-1.155744</td>\n",
       "      <td>1</td>\n",
       "      <td>...</td>\n",
       "      <td>1</td>\n",
       "      <td>0</td>\n",
       "      <td>0</td>\n",
       "      <td>0</td>\n",
       "      <td>0</td>\n",
       "      <td>1</td>\n",
       "      <td>0</td>\n",
       "      <td>1</td>\n",
       "      <td>0</td>\n",
       "      <td>0</td>\n",
       "    </tr>\n",
       "  </tbody>\n",
       "</table>\n",
       "<p>5 rows × 25 columns</p>\n",
       "</div>"
      ],
      "text/plain": [
       "   passenger_count  pickup_longitude  pickup_latitude  dropoff_longitude  \\\n",
       "0         3.317928          0.906009         0.624221           0.874629   \n",
       "1        -0.501792         -0.184855         0.381801          -0.656770   \n",
       "2        -0.501792          1.058748         0.096932           0.194007   \n",
       "3        -0.501792         -0.564532         0.136396           0.460273   \n",
       "4        -0.501792          0.599231         1.910442           0.038437   \n",
       "\n",
       "   dropoff_latitude  seconds_pickup  distance  pickup_to_center  \\\n",
       "0          0.707912       -0.584796 -0.884955          0.228067   \n",
       "1         -0.124004        1.393202 -0.549524         -0.710255   \n",
       "2         -0.215053        1.417978 -0.611338          0.998530   \n",
       "3         -0.038303       -0.948225 -0.322410         -0.838747   \n",
       "4          1.142176        0.650647 -0.559203         -1.502657   \n",
       "\n",
       "   dropof_to_center  pm         ...          Thursday  Friday  Saturday  \\\n",
       "0          0.058137   0         ...                 0       0         0   \n",
       "1         -0.531354   1         ...                 0       0         1   \n",
       "2          0.348872   1         ...                 0       0         0   \n",
       "3          0.411745   0         ...                 0       0         0   \n",
       "4         -1.155744   1         ...                 1       0         0   \n",
       "\n",
       "   Sunday  seconds_pickup_cluster_0  seconds_pickup_cluster_1  \\\n",
       "0       0                         0                         0   \n",
       "1       0                         0                         1   \n",
       "2       0                         0                         1   \n",
       "3       0                         0                         0   \n",
       "4       0                         0                         1   \n",
       "\n",
       "   seconds_pickup_cluster_2  distance_cluster_0  distance_cluster_1  \\\n",
       "0                         1                   1                   0   \n",
       "1                         0                   1                   0   \n",
       "2                         0                   1                   0   \n",
       "3                         1                   1                   0   \n",
       "4                         0                   1                   0   \n",
       "\n",
       "   distance_cluster_2  \n",
       "0                   0  \n",
       "1                   0  \n",
       "2                   0  \n",
       "3                   0  \n",
       "4                   0  \n",
       "\n",
       "[5 rows x 25 columns]"
      ]
     },
     "execution_count": 86,
     "metadata": {},
     "output_type": "execute_result"
    }
   ],
   "source": [
    "#trip_duration\n",
    "\n",
    "import pandas as pd\n",
    "x_test1 = pd.read_csv('data/x_test.csv', sep=',')\n",
    "x_test1 = x_test1[x_test1.columns[1:27]] \n",
    "x_test1.head()"
   ]
  },
  {
   "cell_type": "code",
   "execution_count": 87,
   "metadata": {},
   "outputs": [
    {
     "data": {
      "text/plain": [
       "passenger_count             float64\n",
       "pickup_longitude            float64\n",
       "pickup_latitude             float64\n",
       "dropoff_longitude           float64\n",
       "dropoff_latitude            float64\n",
       "seconds_pickup              float64\n",
       "distance                    float64\n",
       "pickup_to_center            float64\n",
       "dropof_to_center            float64\n",
       "pm                            int64\n",
       "id_vendor_1                   int64\n",
       "id_vendor_2                   int64\n",
       "Monday                        int64\n",
       "Tuesday                       int64\n",
       "Wednesday                     int64\n",
       "Thursday                      int64\n",
       "Friday                        int64\n",
       "Saturday                      int64\n",
       "Sunday                        int64\n",
       "seconds_pickup_cluster_0      int64\n",
       "seconds_pickup_cluster_1      int64\n",
       "seconds_pickup_cluster_2      int64\n",
       "distance_cluster_0            int64\n",
       "distance_cluster_1            int64\n",
       "distance_cluster_2            int64\n",
       "dtype: object"
      ]
     },
     "execution_count": 87,
     "metadata": {},
     "output_type": "execute_result"
    }
   ],
   "source": [
    "x_test1.dtypes"
   ]
  },
  {
   "cell_type": "markdown",
   "metadata": {},
   "source": [
    "Transformacion de algunas variables a categoricas"
   ]
  },
  {
   "cell_type": "code",
   "execution_count": 88,
   "metadata": {},
   "outputs": [],
   "source": [
    "# encode store_and_fwd_flag.map\n",
    "#train['store_and_fwd_flag_mark'] = train.store_and_fwd_flag.map({'N':0, 'Y':1})"
   ]
  },
  {
   "cell_type": "code",
   "execution_count": 89,
   "metadata": {},
   "outputs": [],
   "source": [
    "# arreglar los datos con las caracteristicas\n",
    "\n",
    "# define features: exclude la variable objetivo\n",
    "# define X and y\n",
    "\n",
    "feature_cols = ['passenger_count','pickup_longitude','pickup_latitude','dropoff_longitude','dropoff_latitude','seconds_pickup'\n",
    "                ,'distance','pickup_to_center','dropof_to_center','pm','Thursday','Friday','Saturday','Sunday','seconds_pickup_cluster_0'\n",
    "                ,'seconds_pickup_cluster_1','seconds_pickup_cluster_2','distance_cluster_0','distance_cluster_1','distance_cluster_2']\n",
    "X = X_train1[feature_cols]\n",
    "#y = train.trip_duration\n",
    "y = y_train1['y']\n",
    "x_test=x_test1[feature_cols]\n",
    "y_test=y_test1['y']"
   ]
  },
  {
   "cell_type": "code",
   "execution_count": 90,
   "metadata": {},
   "outputs": [
    {
     "data": {
      "text/plain": [
       "(40239, 20)"
      ]
     },
     "execution_count": 90,
     "metadata": {},
     "output_type": "execute_result"
    }
   ],
   "source": [
    "X.shape\n",
    "#y.shape\n",
    "#y['trip_duration'].value_counts()\n",
    "#y['trip_duration'].describe()"
   ]
  },
  {
   "cell_type": "code",
   "execution_count": 91,
   "metadata": {},
   "outputs": [],
   "source": [
    "from sklearn import metrics\n",
    "from sklearn.cross_validation import cross_val_score\n",
    "from sklearn.datasets import load_iris\n",
    "from sklearn.cross_validation import train_test_split\n",
    "from sklearn.neighbors import KNeighborsClassifier\n",
    "from sklearn import metrics\n",
    "from sklearn.tree import DecisionTreeRegressor"
   ]
  },
  {
   "cell_type": "markdown",
   "metadata": {},
   "source": [
    "######## MODELO 1\n",
    "\n",
    "Predicir tiempo de duracion del viaje  con decision tree\n",
    "\n",
    "paso 1. Find the best max_depth for a decision tree using cross-validation. En este caso se usa un rango de 1 a 21 para realizar cross validation con cada valor del rango definido ( es decir probar el k optimo en el modelo). al analizar el resultado frente al RMSE con cada valor del rango, se observa que el valor K con el el cual se obtiene el menor error es K=1. luego, con este valor optimo se procede a correr el modelo nuevo y evualuar su accurancy."
   ]
  },
  {
   "cell_type": "code",
   "execution_count": 92,
   "metadata": {},
   "outputs": [],
   "source": [
    "# list of values to try for max_depth\n",
    "max_depth_range = range(1, 21)\n",
    "\n",
    "# list to store the average RMSE for each value of max_depth\n",
    "RMSE_scores = []\n",
    "\n",
    "# use 10-fold cross-validation with each value of max_depth\n",
    "from sklearn.model_selection import cross_val_score\n",
    "for depth in max_depth_range:\n",
    "    treereg = DecisionTreeRegressor(max_depth=depth, random_state=1)\n",
    "    MSE_scores = cross_val_score(treereg, X, y, cv=10, scoring='neg_mean_squared_error')\n",
    "    RMSE_scores.append(np.mean(np.sqrt(-MSE_scores)))"
   ]
  },
  {
   "cell_type": "code",
   "execution_count": 93,
   "metadata": {
    "scrolled": true
   },
   "outputs": [
    {
     "data": {
      "text/plain": [
       "Text(0,0.5,'RMSE (lower is better)')"
      ]
     },
     "execution_count": 93,
     "metadata": {},
     "output_type": "execute_result"
    },
    {
     "data": {
      "image/png": "[encoded data removed]",
      "text/plain": [
       "<matplotlib.figure.Figure at 0xb01051e9e8>"
      ]
     },
     "metadata": {},
     "output_type": "display_data"
    }
   ],
   "source": [
    "# plot max_depth (x-axis) versus RMSE (y-axis)\n",
    "plt.plot(max_depth_range, RMSE_scores)\n",
    "plt.xlabel('max_depth')\n",
    "plt.ylabel('RMSE (lower is better)')"
   ]
  },
  {
   "cell_type": "code",
   "execution_count": 94,
   "metadata": {},
   "outputs": [
    {
     "data": {
      "text/plain": [
       "(3056.806045163429, 1)"
      ]
     },
     "execution_count": 94,
     "metadata": {},
     "output_type": "execute_result"
    }
   ],
   "source": [
    "# show the best RMSE and the corresponding max_depth\n",
    "sorted(zip(RMSE_scores, max_depth_range))[0]"
   ]
  },
  {
   "cell_type": "code",
   "execution_count": 95,
   "metadata": {
    "scrolled": false
   },
   "outputs": [
    {
     "data": {
      "text/plain": [
       "DecisionTreeRegressor(criterion='mse', max_depth=1, max_features=None,\n",
       "           max_leaf_nodes=None, min_impurity_decrease=0.0,\n",
       "           min_impurity_split=None, min_samples_leaf=1,\n",
       "           min_samples_split=2, min_weight_fraction_leaf=0.0,\n",
       "           presort=False, random_state=1, splitter='best')"
      ]
     },
     "execution_count": 95,
     "metadata": {},
     "output_type": "execute_result"
    }
   ],
   "source": [
    "# max_depth=1 was best, so fit a tree using that parameter\n",
    "treereg = DecisionTreeRegressor(max_depth=1, random_state=1)\n",
    "treereg.fit(X, y)\n"
   ]
  },
  {
   "cell_type": "code",
   "execution_count": 96,
   "metadata": {
    "scrolled": true
   },
   "outputs": [
    {
     "name": "stdout",
     "output_type": "stream",
     "text": [
      "MAE 419.0895013174921\n",
      "MSE 6596746.470495962\n",
      "RMSE 2568.4132203553154\n"
     ]
    }
   ],
   "source": [
    "# make predictions for testing set\n",
    "y_pred_time = treereg.predict(x_test)\n",
    "print('MAE',metrics.mean_absolute_error(y_test1,y_pred_time))\n",
    "print('MSE',metrics.mean_squared_error(y_test1,y_pred_time))\n",
    "print('RMSE',np.sqrt(metrics.mean_squared_error(y_test1,y_pred_time)))"
   ]
  },
  {
   "cell_type": "code",
   "execution_count": 97,
   "metadata": {
    "scrolled": false
   },
   "outputs": [],
   "source": [
    "import matplotlib.pyplot as plt\n",
    "import numpy as np"
   ]
  },
  {
   "cell_type": "code",
   "execution_count": 106,
   "metadata": {
    "scrolled": true
   },
   "outputs": [],
   "source": [
    "\n",
    "y_pred_time = pd.DataFrame(y_pred_time, columns=['y']).to_csv('y_pred_time.csv')\n",
    "#y_pred_time.to_csv('C:\\Users\\emangelg\\Desktop\\MASTER ANALYTICS\\arbol.csv') #Para guardar los datos  de entrenamiento"
   ]
  },
  {
   "cell_type": "code",
   "execution_count": 111,
   "metadata": {
    "scrolled": false
   },
   "outputs": [
    {
     "data": {
      "text/html": [
       "<div>\n",
       "<style scoped>\n",
       "    .dataframe tbody tr th:only-of-type {\n",
       "        vertical-align: middle;\n",
       "    }\n",
       "\n",
       "    .dataframe tbody tr th {\n",
       "        vertical-align: top;\n",
       "    }\n",
       "\n",
       "    .dataframe thead th {\n",
       "        text-align: right;\n",
       "    }\n",
       "</style>\n",
       "<table border=\"1\" class=\"dataframe\">\n",
       "  <thead>\n",
       "    <tr style=\"text-align: right;\">\n",
       "      <th></th>\n",
       "      <th>ypred</th>\n",
       "      <th>ytest</th>\n",
       "    </tr>\n",
       "  </thead>\n",
       "  <tbody>\n",
       "    <tr>\n",
       "      <th>0</th>\n",
       "      <td>590.019222</td>\n",
       "      <td>308</td>\n",
       "    </tr>\n",
       "    <tr>\n",
       "      <th>1</th>\n",
       "      <td>590.019222</td>\n",
       "      <td>871</td>\n",
       "    </tr>\n",
       "    <tr>\n",
       "      <th>2</th>\n",
       "      <td>590.019222</td>\n",
       "      <td>284</td>\n",
       "    </tr>\n",
       "    <tr>\n",
       "      <th>3</th>\n",
       "      <td>590.019222</td>\n",
       "      <td>642</td>\n",
       "    </tr>\n",
       "    <tr>\n",
       "      <th>4</th>\n",
       "      <td>590.019222</td>\n",
       "      <td>307</td>\n",
       "    </tr>\n",
       "  </tbody>\n",
       "</table>\n",
       "</div>"
      ],
      "text/plain": [
       "        ypred  ytest\n",
       "0  590.019222    308\n",
       "1  590.019222    871\n",
       "2  590.019222    284\n",
       "3  590.019222    642\n",
       "4  590.019222    307"
      ]
     },
     "execution_count": 111,
     "metadata": {},
     "output_type": "execute_result"
    }
   ],
   "source": [
    "import pandas as pd\n",
    "y_pred_time1 = pd.read_csv('data/y_pred_time2.csv', sep=',')\n",
    "y_pred_time1 = y_pred_time1[y_pred_time1.columns[1:27]] \n",
    "y_pred_time1.head()"
   ]
  },
  {
   "cell_type": "code",
   "execution_count": 117,
   "metadata": {},
   "outputs": [],
   "source": [
    "#grafico"
   ]
  },
  {
   "cell_type": "code",
   "execution_count": 19,
   "metadata": {
    "scrolled": true
   },
   "outputs": [
    {
     "data": {
      "text/html": [
       "<div>\n",
       "<style scoped>\n",
       "    .dataframe tbody tr th:only-of-type {\n",
       "        vertical-align: middle;\n",
       "    }\n",
       "\n",
       "    .dataframe tbody tr th {\n",
       "        vertical-align: top;\n",
       "    }\n",
       "\n",
       "    .dataframe thead th {\n",
       "        text-align: right;\n",
       "    }\n",
       "</style>\n",
       "<table border=\"1\" class=\"dataframe\">\n",
       "  <thead>\n",
       "    <tr style=\"text-align: right;\">\n",
       "      <th></th>\n",
       "      <th>feature</th>\n",
       "      <th>importance</th>\n",
       "    </tr>\n",
       "  </thead>\n",
       "  <tbody>\n",
       "    <tr>\n",
       "      <th>0</th>\n",
       "      <td>passenger_count</td>\n",
       "      <td>0.0</td>\n",
       "    </tr>\n",
       "    <tr>\n",
       "      <th>17</th>\n",
       "      <td>distance_cluster_0</td>\n",
       "      <td>0.0</td>\n",
       "    </tr>\n",
       "    <tr>\n",
       "      <th>16</th>\n",
       "      <td>seconds_pickup_cluster_2</td>\n",
       "      <td>0.0</td>\n",
       "    </tr>\n",
       "    <tr>\n",
       "      <th>15</th>\n",
       "      <td>seconds_pickup_cluster_1</td>\n",
       "      <td>0.0</td>\n",
       "    </tr>\n",
       "    <tr>\n",
       "      <th>14</th>\n",
       "      <td>seconds_pickup_cluster_0</td>\n",
       "      <td>0.0</td>\n",
       "    </tr>\n",
       "    <tr>\n",
       "      <th>13</th>\n",
       "      <td>Sunday</td>\n",
       "      <td>0.0</td>\n",
       "    </tr>\n",
       "    <tr>\n",
       "      <th>12</th>\n",
       "      <td>Saturday</td>\n",
       "      <td>0.0</td>\n",
       "    </tr>\n",
       "    <tr>\n",
       "      <th>11</th>\n",
       "      <td>Friday</td>\n",
       "      <td>0.0</td>\n",
       "    </tr>\n",
       "    <tr>\n",
       "      <th>10</th>\n",
       "      <td>Thursday</td>\n",
       "      <td>0.0</td>\n",
       "    </tr>\n",
       "    <tr>\n",
       "      <th>9</th>\n",
       "      <td>pm</td>\n",
       "      <td>0.0</td>\n",
       "    </tr>\n",
       "    <tr>\n",
       "      <th>8</th>\n",
       "      <td>dropof_to_center</td>\n",
       "      <td>0.0</td>\n",
       "    </tr>\n",
       "    <tr>\n",
       "      <th>7</th>\n",
       "      <td>pickup_to_center</td>\n",
       "      <td>0.0</td>\n",
       "    </tr>\n",
       "    <tr>\n",
       "      <th>5</th>\n",
       "      <td>seconds_pickup</td>\n",
       "      <td>0.0</td>\n",
       "    </tr>\n",
       "    <tr>\n",
       "      <th>4</th>\n",
       "      <td>dropoff_latitude</td>\n",
       "      <td>0.0</td>\n",
       "    </tr>\n",
       "    <tr>\n",
       "      <th>3</th>\n",
       "      <td>dropoff_longitude</td>\n",
       "      <td>0.0</td>\n",
       "    </tr>\n",
       "    <tr>\n",
       "      <th>2</th>\n",
       "      <td>pickup_latitude</td>\n",
       "      <td>0.0</td>\n",
       "    </tr>\n",
       "    <tr>\n",
       "      <th>1</th>\n",
       "      <td>pickup_longitude</td>\n",
       "      <td>0.0</td>\n",
       "    </tr>\n",
       "    <tr>\n",
       "      <th>18</th>\n",
       "      <td>distance_cluster_1</td>\n",
       "      <td>0.0</td>\n",
       "    </tr>\n",
       "    <tr>\n",
       "      <th>19</th>\n",
       "      <td>distance_cluster_2</td>\n",
       "      <td>0.0</td>\n",
       "    </tr>\n",
       "    <tr>\n",
       "      <th>6</th>\n",
       "      <td>distance</td>\n",
       "      <td>1.0</td>\n",
       "    </tr>\n",
       "  </tbody>\n",
       "</table>\n",
       "</div>"
      ],
      "text/plain": [
       "                     feature  importance\n",
       "0            passenger_count         0.0\n",
       "17        distance_cluster_0         0.0\n",
       "16  seconds_pickup_cluster_2         0.0\n",
       "15  seconds_pickup_cluster_1         0.0\n",
       "14  seconds_pickup_cluster_0         0.0\n",
       "13                    Sunday         0.0\n",
       "12                  Saturday         0.0\n",
       "11                    Friday         0.0\n",
       "10                  Thursday         0.0\n",
       "9                         pm         0.0\n",
       "8           dropof_to_center         0.0\n",
       "7           pickup_to_center         0.0\n",
       "5             seconds_pickup         0.0\n",
       "4           dropoff_latitude         0.0\n",
       "3          dropoff_longitude         0.0\n",
       "2            pickup_latitude         0.0\n",
       "1           pickup_longitude         0.0\n",
       "18        distance_cluster_1         0.0\n",
       "19        distance_cluster_2         0.0\n",
       "6                   distance         1.0"
      ]
     },
     "execution_count": 19,
     "metadata": {},
     "output_type": "execute_result"
    }
   ],
   "source": [
    "# compute feature importances\n",
    "pd.DataFrame({'feature':feature_cols, 'importance':treereg.feature_importances_}).sort_values('importance')"
   ]
  },
  {
   "cell_type": "markdown",
   "metadata": {},
   "source": [
    "######## MODELO 2\n",
    "\n",
    "Predicir tiempo de duracion del viaje con un random Forest\n",
    "\n",
    "\n",
    "Un parámetro de ajuste  o tunning parameter que importante es el  n_estimators, que es la cantidad de árboles que se deben crear. Debe ser un valor lo suficientemente grande como para que el error parezca haberse \"estabilizado\"."
   ]
  },
  {
   "cell_type": "code",
   "execution_count": 118,
   "metadata": {},
   "outputs": [
    {
     "data": {
      "text/plain": [
       "RandomForestRegressor(bootstrap=True, criterion='mse', max_depth=None,\n",
       "           max_features='auto', max_leaf_nodes=None,\n",
       "           min_impurity_decrease=0.0, min_impurity_split=None,\n",
       "           min_samples_leaf=1, min_samples_split=2,\n",
       "           min_weight_fraction_leaf=0.0, n_estimators=10, n_jobs=1,\n",
       "           oob_score=False, random_state=None, verbose=0, warm_start=False)"
      ]
     },
     "execution_count": 118,
     "metadata": {},
     "output_type": "execute_result"
    }
   ],
   "source": [
    "from sklearn.ensemble import RandomForestRegressor\n",
    "rfreg = RandomForestRegressor()\n",
    "rfreg"
   ]
  },
  {
   "cell_type": "code",
   "execution_count": null,
   "metadata": {},
   "outputs": [],
   "source": [
    "#Tuning n_estimators\n",
    "#One important tuning parameter is n_estimators, which is the number of trees that should be grown. \n",
    "#It should be a large enough value that the error seems to have \"stabilized\".\n",
    "\n",
    "# list of values to try for n_estimators\n",
    "estimator_range = range(10, 310, 10)\n",
    "\n",
    "# list to store the average RMSE for each value of n_estimatorsb \n",
    "RMSE_scores = []\n",
    "\n",
    "# use 5-fold cross-validation with each value of n_estimators (WARNING: SLOW!)\n",
    "for estimator in estimator_range:\n",
    "    rfreg = RandomForestRegressor(n_estimators=estimator, random_state=1, n_jobs=-1)\n",
    "    MSE_scores = cross_val_score(rfreg, X, y, cv=5, scoring='neg_mean_squared_error')\n",
    "    RMSE_scores.append(np.mean(np.sqrt(-MSE_scores)))"
   ]
  },
  {
   "cell_type": "code",
   "execution_count": 24,
   "metadata": {
    "scrolled": true
   },
   "outputs": [
    {
     "data": {
      "text/plain": [
       "Text(0,0.5,'RMSE (lower is better)')"
      ]
     },
     "execution_count": 24,
     "metadata": {},
     "output_type": "execute_result"
    },
    {
     "data": {
      "image/png": "[encoded data removed]",
      "text/plain": [
       "<matplotlib.figure.Figure at 0x8102f98a58>"
      ]
     },
     "metadata": {},
     "output_type": "display_data"
    }
   ],
   "source": [
    "# plot n_estimators (x-axis) versus RMSE (y-axis)\n",
    "plt.plot(estimator_range, RMSE_scores)\n",
    "plt.xlabel('n_estimators')\n",
    "plt.ylabel('RMSE (lower is better)')"
   ]
  },
  {
   "cell_type": "code",
   "execution_count": 25,
   "metadata": {},
   "outputs": [
    {
     "data": {
      "text/plain": [
       "(3174.803965554359, 300)"
      ]
     },
     "execution_count": 25,
     "metadata": {},
     "output_type": "execute_result"
    }
   ],
   "source": [
    "# show the best RMSE and the corresponding max_depth\n",
    "sorted(zip(RMSE_scores, estimator_range))[0]"
   ]
  },
  {
   "cell_type": "code",
   "execution_count": 124,
   "metadata": {},
   "outputs": [
    {
     "data": {
      "text/plain": [
       "RandomForestRegressor(bootstrap=True, criterion='mse', max_depth=None,\n",
       "           max_features='auto', max_leaf_nodes=None,\n",
       "           min_impurity_decrease=0.0, min_impurity_split=None,\n",
       "           min_samples_leaf=1, min_samples_split=2,\n",
       "           min_weight_fraction_leaf=0.0, n_estimators=300, n_jobs=-1,\n",
       "           oob_score=False, random_state=1, verbose=0, warm_start=False)"
      ]
     },
     "execution_count": 124,
     "metadata": {},
     "output_type": "execute_result"
    }
   ],
   "source": [
    "rfreg = RandomForestRegressor(n_estimators=300, random_state=1, n_jobs=-1)\n",
    "rfreg.fit(X, y)"
   ]
  },
  {
   "cell_type": "code",
   "execution_count": 125,
   "metadata": {},
   "outputs": [],
   "source": [
    "# make predictions for testing set\n",
    "y_pred_time2 =  rfreg.predict(x_test)"
   ]
  },
  {
   "cell_type": "code",
   "execution_count": 126,
   "metadata": {},
   "outputs": [
    {
     "name": "stdout",
     "output_type": "stream",
     "text": [
      "MAE 416.6200703297796\n",
      "MSE 7309365.149247755\n",
      "RMSE 2703.583760353608\n"
     ]
    }
   ],
   "source": [
    "print('MAE',metrics.mean_absolute_error(y_test1,y_pred_time2))\n",
    "print('MSE',metrics.mean_squared_error(y_test1,y_pred_time2))\n",
    "print('RMSE',np.sqrt(metrics.mean_squared_error(y_test1,y_pred_time2)))"
   ]
  },
  {
   "cell_type": "markdown",
   "metadata": {},
   "source": [
    "Conclusiones generales: en terminos de RMSE el mejor modelo es el que corresponde a un arbol de decision frente al modelo de Ramdom Forest con un RMSE de 2568.41 vs. 2703.58 respectivamente. "
   ]
  },
  {
   "cell_type": "code",
   "execution_count": null,
   "metadata": {},
   "outputs": [],
   "source": []
  }
 ],
 "metadata": {
  "kernelspec": {
   "display_name": "Python 3",
   "language": "python",
   "name": "python3"
  },
  "language_info": {
   "codemirror_mode": {
    "name": "ipython",
    "version": 3
   },
   "file_extension": ".py",
   "mimetype": "text/x-python",
   "name": "python",
   "nbconvert_exporter": "python",
   "pygments_lexer": "ipython3",
   "version": "3.6.4"
  }
 },
 "nbformat": 4,
 "nbformat_minor": 2
}
